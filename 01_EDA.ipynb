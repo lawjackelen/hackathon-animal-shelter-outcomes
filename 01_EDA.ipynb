{
 "cells": [
  {
   "cell_type": "markdown",
   "id": "315cab93",
   "metadata": {},
   "source": [
    "# Imports"
   ]
  },
  {
   "cell_type": "code",
   "execution_count": 1,
   "id": "c4d42f4a",
   "metadata": {
    "ExecuteTime": {
     "end_time": "2022-07-06T20:35:34.605491Z",
     "start_time": "2022-07-06T20:35:33.671734Z"
    }
   },
   "outputs": [],
   "source": [
    "import pandas as pd\n",
    "import numpy as np\n",
    "np.random.seed(2121)\n",
    "\n",
    "import re"
   ]
  },
  {
   "cell_type": "code",
   "execution_count": 2,
   "id": "d57675fb",
   "metadata": {
    "ExecuteTime": {
     "end_time": "2022-07-06T20:35:34.793001Z",
     "start_time": "2022-07-06T20:35:34.609487Z"
    }
   },
   "outputs": [],
   "source": [
    "train = pd.read_csv('shelter-animal-outcomes/train.csv.gz')\n",
    "test  = pd.read_csv('shelter-animal-outcomes/test.csv.gz')"
   ]
  },
  {
   "cell_type": "code",
   "execution_count": 3,
   "id": "9648b83f",
   "metadata": {
    "ExecuteTime": {
     "end_time": "2022-07-06T20:35:34.808085Z",
     "start_time": "2022-07-06T20:35:34.795002Z"
    }
   },
   "outputs": [],
   "source": [
    "# pythonize columns\n",
    "train.columns = [col.lower() for col in train.columns]\n",
    "test.columns = [col.lower() for col in test.columns]"
   ]
  },
  {
   "cell_type": "markdown",
   "id": "1386e409",
   "metadata": {},
   "source": [
    "# Target"
   ]
  },
  {
   "cell_type": "code",
   "execution_count": 4,
   "id": "1b0f5c95",
   "metadata": {
    "ExecuteTime": {
     "end_time": "2022-07-06T20:35:34.838001Z",
     "start_time": "2022-07-06T20:35:34.813004Z"
    }
   },
   "outputs": [
    {
     "data": {
      "text/plain": [
       "Adoption           0.402896\n",
       "Transfer           0.352501\n",
       "Return_to_owner    0.179056\n",
       "Euthanasia         0.058177\n",
       "Died               0.007370\n",
       "Name: outcometype, dtype: float64"
      ]
     },
     "execution_count": 4,
     "metadata": {},
     "output_type": "execute_result"
    }
   ],
   "source": [
    "train.outcometype.value_counts(normalize=True)"
   ]
  },
  {
   "cell_type": "markdown",
   "id": "0623405d",
   "metadata": {},
   "source": [
    "Our target variable is `outcometype` that has a baseline score of 40.2%"
   ]
  },
  {
   "cell_type": "markdown",
   "id": "1ada2c3a",
   "metadata": {},
   "source": [
    "# EDA"
   ]
  },
  {
   "cell_type": "markdown",
   "id": "34d38f62",
   "metadata": {},
   "source": [
    "## Examine Nulls"
   ]
  },
  {
   "cell_type": "code",
   "execution_count": 5,
   "id": "8667050d",
   "metadata": {
    "ExecuteTime": {
     "end_time": "2022-07-06T20:35:34.931002Z",
     "start_time": "2022-07-06T20:35:34.840001Z"
    }
   },
   "outputs": [
    {
     "data": {
      "text/html": [
       "<div>\n",
       "<style scoped>\n",
       "    .dataframe tbody tr th:only-of-type {\n",
       "        vertical-align: middle;\n",
       "    }\n",
       "\n",
       "    .dataframe tbody tr th {\n",
       "        vertical-align: top;\n",
       "    }\n",
       "\n",
       "    .dataframe thead th {\n",
       "        text-align: right;\n",
       "    }\n",
       "</style>\n",
       "<table border=\"1\" class=\"dataframe\">\n",
       "  <thead>\n",
       "    <tr style=\"text-align: right;\">\n",
       "      <th></th>\n",
       "      <th>0</th>\n",
       "    </tr>\n",
       "  </thead>\n",
       "  <tbody>\n",
       "    <tr>\n",
       "      <th>outcomesubtype</th>\n",
       "      <td>13612</td>\n",
       "    </tr>\n",
       "    <tr>\n",
       "      <th>name</th>\n",
       "      <td>7691</td>\n",
       "    </tr>\n",
       "    <tr>\n",
       "      <th>ageuponoutcome</th>\n",
       "      <td>18</td>\n",
       "    </tr>\n",
       "    <tr>\n",
       "      <th>sexuponoutcome</th>\n",
       "      <td>1</td>\n",
       "    </tr>\n",
       "    <tr>\n",
       "      <th>animalid</th>\n",
       "      <td>0</td>\n",
       "    </tr>\n",
       "    <tr>\n",
       "      <th>datetime</th>\n",
       "      <td>0</td>\n",
       "    </tr>\n",
       "    <tr>\n",
       "      <th>outcometype</th>\n",
       "      <td>0</td>\n",
       "    </tr>\n",
       "    <tr>\n",
       "      <th>animaltype</th>\n",
       "      <td>0</td>\n",
       "    </tr>\n",
       "    <tr>\n",
       "      <th>breed</th>\n",
       "      <td>0</td>\n",
       "    </tr>\n",
       "    <tr>\n",
       "      <th>color</th>\n",
       "      <td>0</td>\n",
       "    </tr>\n",
       "  </tbody>\n",
       "</table>\n",
       "</div>"
      ],
      "text/plain": [
       "                    0\n",
       "outcomesubtype  13612\n",
       "name             7691\n",
       "ageuponoutcome     18\n",
       "sexuponoutcome      1\n",
       "animalid            0\n",
       "datetime            0\n",
       "outcometype         0\n",
       "animaltype          0\n",
       "breed               0\n",
       "color               0"
      ]
     },
     "execution_count": 5,
     "metadata": {},
     "output_type": "execute_result"
    }
   ],
   "source": [
    "train.isnull().sum().to_frame().sort_values(0,ascending=False)"
   ]
  },
  {
   "cell_type": "markdown",
   "id": "ea1b9355",
   "metadata": {},
   "source": [
    "Outcomesubtype is an extension of outcometype and is out of scope for this analysis. Drop it"
   ]
  },
  {
   "cell_type": "code",
   "execution_count": 6,
   "id": "da397132",
   "metadata": {
    "ExecuteTime": {
     "end_time": "2022-07-06T20:35:34.947001Z",
     "start_time": "2022-07-06T20:35:34.934001Z"
    }
   },
   "outputs": [],
   "source": [
    "train.drop('outcomesubtype', axis=1, inplace=True)"
   ]
  },
  {
   "cell_type": "markdown",
   "id": "d2b535d5",
   "metadata": {},
   "source": [
    "Name can be converted to a boolean has_name"
   ]
  },
  {
   "cell_type": "code",
   "execution_count": 7,
   "id": "2fdd7089",
   "metadata": {
    "ExecuteTime": {
     "end_time": "2022-07-06T20:35:35.057002Z",
     "start_time": "2022-07-06T20:35:34.950003Z"
    }
   },
   "outputs": [],
   "source": [
    "train['has_name'] = train.name.map(lambda x: 0 if pd.isnull(x) else 1)\n",
    "test['has_name'] = test.name.map(lambda x: 0 if pd.isnull(x) else 1)\n",
    "\n",
    "train.drop('name', axis=1, inplace=True)\n",
    "test.drop('name', axis=1, inplace=True)"
   ]
  },
  {
   "cell_type": "code",
   "execution_count": 8,
   "id": "f188f61a",
   "metadata": {
    "ExecuteTime": {
     "end_time": "2022-07-06T20:35:36.866521Z",
     "start_time": "2022-07-06T20:35:35.060002Z"
    }
   },
   "outputs": [],
   "source": [
    "def age_to_years(item):\n",
    "    # convert item to list if it is one string\n",
    "    if type(item) is str:\n",
    "        item = [item]\n",
    "    ages_in_years = np.zeros(len(item))\n",
    "    for i in range(len(item)):\n",
    "        # check if item[i] is str\n",
    "        if type(item[i]) is str:\n",
    "            if 'day' in item[i]:\n",
    "                ages_in_years[i] = int(item[i].split(' ')[0])/365\n",
    "            if 'week' in item[i]:\n",
    "                ages_in_years[i] = int(item[i].split(' ')[0])/52.1429\n",
    "            if 'month' in item[i]:\n",
    "                ages_in_years[i] = int(item[i].split(' ')[0])/12\n",
    "            if 'year' in item[i]:\n",
    "                ages_in_years[i] = int(item[i].split(' ')[0])\n",
    "        else:\n",
    "            # item[i] is not a string but a nan\n",
    "            ages_in_years[i] = 0\n",
    "    return ages_in_years\n",
    "train['ageuponoutcome'] = age_to_years(train['ageuponoutcome']).round(2)\n",
    "test['ageuponoutcome'] = age_to_years(test['ageuponoutcome']).round(2)"
   ]
  },
  {
   "cell_type": "code",
   "execution_count": 9,
   "id": "0a4c87a2",
   "metadata": {
    "ExecuteTime": {
     "end_time": "2022-07-06T20:35:36.898521Z",
     "start_time": "2022-07-06T20:35:36.869520Z"
    },
    "scrolled": true
   },
   "outputs": [],
   "source": [
    "age_category_train = pd.cut(train.ageuponoutcome,\n",
    "            bins=[0, 0.5, 1.0,\n",
    "               10.0, 20.0],\n",
    "            labels=['baby',\n",
    "                    'young',\n",
    "                    'adolescent',\n",
    "                    'old'])\n",
    "\n",
    "train['age_category'] = age_category_train\n",
    "\n",
    "age_category_test = pd.cut(test.ageuponoutcome,\n",
    "            bins=[0, 0.5, 1.0,\n",
    "               10.0, 20.0],\n",
    "            labels=['baby',\n",
    "                    'young',\n",
    "                    'adolescent',\n",
    "                    'old'])\n",
    "\n",
    "test['age_category'] = age_category_test\n"
   ]
  },
  {
   "cell_type": "code",
   "execution_count": 10,
   "id": "ec66e8c0",
   "metadata": {
    "ExecuteTime": {
     "end_time": "2022-07-06T20:35:36.930541Z",
     "start_time": "2022-07-06T20:35:36.915522Z"
    }
   },
   "outputs": [],
   "source": [
    "# train = train[~(train.ageuponoutcome.isnull()) & ~(train.sexuponoutcome.isnull())]"
   ]
  },
  {
   "cell_type": "code",
   "execution_count": 11,
   "id": "a0f507da",
   "metadata": {
    "ExecuteTime": {
     "end_time": "2022-07-06T20:35:36.992520Z",
     "start_time": "2022-07-06T20:35:36.934550Z"
    }
   },
   "outputs": [],
   "source": [
    "# remove domestic from breed\n",
    "train.breed = train.breed.map(lambda x: x.lower().replace('domestic',''))\n",
    "test.breed = test.breed.map(lambda x: x.lower().replace('domestic',''))"
   ]
  },
  {
   "cell_type": "code",
   "execution_count": 12,
   "id": "2b7c3f44",
   "metadata": {
    "ExecuteTime": {
     "end_time": "2022-07-06T20:35:37.195521Z",
     "start_time": "2022-07-06T20:35:36.996523Z"
    }
   },
   "outputs": [],
   "source": [
    "# remove and encode mix\n",
    "train['is_mix'] = train.breed.map(lambda x: ' mix' in x.lower()\n",
    "                                            or '/' in x).astype(int)\n",
    "train.breed = train.breed.map(lambda x: x.lower().replace(' mix','').replace(' ',''))\n",
    "train.breed = train['breed'].str.split('/').map(lambda x: x[0])\n",
    "\n",
    "\n",
    "test['is_mix'] = test.breed.map(lambda x: ' mix' in x.lower()\n",
    "                                          or '/' in x).astype(int)\n",
    "test.breed = test.breed.map(lambda x: x.lower().replace(' mix','').replace(' ',''))\n",
    "test.breed = test['breed'].str.split('/').map(lambda x: x[0])"
   ]
  },
  {
   "cell_type": "code",
   "execution_count": 13,
   "id": "cce916f1",
   "metadata": {
    "ExecuteTime": {
     "end_time": "2022-07-06T20:35:38.762428Z",
     "start_time": "2022-07-06T20:35:37.197521Z"
    }
   },
   "outputs": [],
   "source": [
    "# add cat breeds\n",
    "train= train.join(pd.get_dummies(\n",
    "        train.apply(lambda x: '' if x.animaltype=='Dog' else x.breed, axis=1),\n",
    "        prefix='cat_breed')\\\n",
    "        [['cat_breed_shorthair','cat_breed_mediumhair',\n",
    "          'cat_breed_longhair','cat_breed_siamese']])\n",
    "\n",
    "test= test.join(pd.get_dummies(\n",
    "        test.apply(lambda x: '' if x.animaltype=='Dog' else x.breed, axis=1),\n",
    "        prefix='cat_breed')\\\n",
    "        [['cat_breed_shorthair','cat_breed_mediumhair',\n",
    "          'cat_breed_longhair','cat_breed_siamese']])"
   ]
  },
  {
   "cell_type": "code",
   "execution_count": 14,
   "id": "54f0fa20",
   "metadata": {
    "ExecuteTime": {
     "end_time": "2022-07-06T20:35:38.809428Z",
     "start_time": "2022-07-06T20:35:38.766428Z"
    }
   },
   "outputs": [
    {
     "data": {
      "text/plain": [
       "chihuahuashorthair     0.137544\n",
       "pitbull                0.135492\n",
       "labradorretriever      0.122796\n",
       "germanshepherd         0.052966\n",
       "australiancattledog    0.032767\n",
       "dachshund              0.032703\n",
       "boxer                  0.023084\n",
       "bordercollie           0.021417\n",
       "miniaturepoodle        0.019878\n",
       "australianshepherd     0.014684\n",
       "Name: breed, dtype: float64"
      ]
     },
     "execution_count": 14,
     "metadata": {},
     "output_type": "execute_result"
    }
   ],
   "source": [
    "train[train.animaltype=='Dog'].breed.value_counts(normalize=True)[:10]"
   ]
  },
  {
   "cell_type": "code",
   "execution_count": 15,
   "id": "87ca2d77",
   "metadata": {
    "ExecuteTime": {
     "end_time": "2022-07-06T20:35:41.197966Z",
     "start_time": "2022-07-06T20:35:38.814427Z"
    }
   },
   "outputs": [],
   "source": [
    "# create helper columns\n",
    "train['dog_breed'] = train.apply(lambda x:\n",
    "                                 '' if x.animaltype=='Cat' \n",
    "                                 else x.breed, axis=1)\n",
    "\n",
    "test['dog_breed'] = train.apply(lambda x:\n",
    "                                 '' if x.animaltype=='Cat' \n",
    "                                 else x.breed, axis=1)"
   ]
  },
  {
   "cell_type": "code",
   "execution_count": 16,
   "id": "73da6b1b",
   "metadata": {
    "ExecuteTime": {
     "end_time": "2022-07-06T20:35:46.389468Z",
     "start_time": "2022-07-06T20:35:41.199945Z"
    }
   },
   "outputs": [],
   "source": [
    "train['dog_breed'] = train.apply(lambda x:'chihuahua' if 'chihuahua' in x.dog_breed \n",
    "                                     else x.dog_breed, axis=1)\n",
    "\n",
    "train['dog_breed'] = train.apply(lambda x:'pitbull' if 'pitbull' in x.dog_breed \n",
    "                                     else x.dog_breed, axis=1)\n",
    "\n",
    "train['dog_breed'] = train.apply(lambda x:'labrador' if 'labrador' in x.dog_breed \n",
    "                                     else x.dog_breed, axis=1)\n",
    "\n",
    "train['dog_breed'] = train.apply(lambda x:'shepherd' if 'shepherd' in x.dog_breed \n",
    "                                     else x.dog_breed, axis=1)\n",
    "\n",
    "train = train.join(pd.get_dummies(train.dog_breed, prefix='dog_breed')\\\n",
    "                    [['dog_breed_chihuahua','dog_breed_pitbull',\n",
    "                     'dog_breed_labrador','dog_breed_shepherd']])\n",
    "\n",
    "train.drop('dog_breed', axis=1, inplace=True)\n",
    "# train['dog_breed'] = train.apply(lambda x:'poodle' if 'poodle' in x.dog_breed \n",
    "#                                      else x.dog_breed, axis=1)\n",
    "\n",
    "# train['dog_breed'] = train.apply(lambda x:'collie' if 'collie' in x.dog_breed \n",
    "#                                      else x.dog_breed, axis=1)\n",
    "\n",
    "# train['dog_breed'] = train.apply(lambda x:'terrier' if 'terrier' in x.dog_breed \n",
    "#                                      else x.dog_breed, axis=1)"
   ]
  },
  {
   "cell_type": "code",
   "execution_count": 17,
   "id": "76078ab8",
   "metadata": {
    "ExecuteTime": {
     "end_time": "2022-07-06T20:35:48.691977Z",
     "start_time": "2022-07-06T20:35:46.392464Z"
    }
   },
   "outputs": [],
   "source": [
    "test['dog_breed'] = test.apply(lambda x:'chihuahua' if 'chihuahua' in x.dog_breed \n",
    "                                     else x.dog_breed, axis=1)\n",
    "\n",
    "test['dog_breed'] = test.apply(lambda x:'pitbull' if 'pitbull' in x.dog_breed \n",
    "                                     else x.dog_breed, axis=1)\n",
    "\n",
    "test['dog_breed'] = test.apply(lambda x:'labrador' if 'labrador' in x.dog_breed \n",
    "                                     else x.dog_breed, axis=1)\n",
    "\n",
    "test['dog_breed'] = test.apply(lambda x:'shepherd' if 'shepherd' in x.dog_breed \n",
    "                                     else x.dog_breed, axis=1)\n",
    "\n",
    "test = test.join(pd.get_dummies(test.dog_breed, prefix='dog_breed')\\\n",
    "                    [['dog_breed_chihuahua','dog_breed_pitbull',\n",
    "                     'dog_breed_labrador','dog_breed_shepherd']])\n",
    "\n",
    "test.drop('dog_breed', axis=1, inplace=True)"
   ]
  },
  {
   "cell_type": "code",
   "execution_count": 18,
   "id": "b5ab5b1c",
   "metadata": {
    "ExecuteTime": {
     "end_time": "2022-07-06T20:35:48.722977Z",
     "start_time": "2022-07-06T20:35:48.693977Z"
    }
   },
   "outputs": [],
   "source": [
    "# drop breed\n",
    "train.drop('breed', axis=1, inplace=True)\n",
    "test.drop('breed', axis=1, inplace=True)"
   ]
  },
  {
   "cell_type": "code",
   "execution_count": 19,
   "id": "ebc4c12b",
   "metadata": {
    "ExecuteTime": {
     "end_time": "2022-07-06T20:35:48.877977Z",
     "start_time": "2022-07-06T20:35:48.731007Z"
    }
   },
   "outputs": [],
   "source": [
    "color_lst = []\n",
    "for x in train['color']:\n",
    "    pattern = r'\\W+'\n",
    "    color_lst.append(re.split(pattern, x))\n",
    "\n",
    "color_df = pd.DataFrame(color_lst)\n",
    "color_df.columns=['primary_color', 'secondary_color', 'tertiary_color', 'other']"
   ]
  },
  {
   "cell_type": "code",
   "execution_count": 20,
   "id": "40a38c55",
   "metadata": {
    "ExecuteTime": {
     "end_time": "2022-07-06T20:35:50.573985Z",
     "start_time": "2022-07-06T20:35:48.880984Z"
    }
   },
   "outputs": [],
   "source": [
    "for i, v in enumerate(color_df['primary_color']):\n",
    "    if v == 'Red':\n",
    "        color_df['primary_color'][i] ='Orange'\n",
    "    elif v == 'Tortie':\n",
    "        color_df['primary_color'][i] ='Tricolor'\n",
    "    elif v == 'Calico':\n",
    "        color_df['primary_color'][i] ='Tricolor'\n",
    "    elif v == 'Torbie':\n",
    "        color_df['primary_color'][i] ='Tricolor'\n",
    "    elif v == 'Sable':\n",
    "        color_df['primary_color'][i] ='Tan'\n",
    "    elif v == 'Cream':\n",
    "        color_df['primary_color'][i] ='Tan'\n",
    "    elif v == 'Chocolate':\n",
    "        color_df['primary_color'][i] ='Brown'\n",
    "    elif v == 'Gray':\n",
    "        color_df['primary_color'][i] ='Gray'\n",
    "    elif v in ['Buff', 'Yellow' , 'Fawn' , 'Lynx' ,\\\n",
    "              'Seal' , 'Silver' , 'Flame' , 'Gold' ,\\\n",
    "              'Lilac' , 'Apricot' , 'Liver' , 'Agouti' ,\\\n",
    "              'Pink' , 'Ruddy']:\n",
    "        color_df['primary_color'][i] = 'Other'"
   ]
  },
  {
   "cell_type": "code",
   "execution_count": 21,
   "id": "2f629613",
   "metadata": {
    "ExecuteTime": {
     "end_time": "2022-07-06T20:35:50.588978Z",
     "start_time": "2022-07-06T20:35:50.576977Z"
    }
   },
   "outputs": [],
   "source": [
    "train = train.join(color_df['primary_color'])"
   ]
  },
  {
   "cell_type": "code",
   "execution_count": 22,
   "id": "16156bc1",
   "metadata": {
    "ExecuteTime": {
     "end_time": "2022-07-06T20:35:50.697977Z",
     "start_time": "2022-07-06T20:35:50.592977Z"
    }
   },
   "outputs": [],
   "source": [
    "color_lst = []\n",
    "for x in test['color']:\n",
    "    pattern = r'\\W+'\n",
    "    color_lst.append(re.split(pattern, x))\n",
    "\n",
    "color_df = pd.DataFrame(color_lst)\n",
    "color_df.columns=['primary_color', 'secondary_color', 'tertiary_color', 'other']"
   ]
  },
  {
   "cell_type": "code",
   "execution_count": 23,
   "id": "7233d37c",
   "metadata": {
    "ExecuteTime": {
     "end_time": "2022-07-06T20:35:51.429491Z",
     "start_time": "2022-07-06T20:35:50.700978Z"
    }
   },
   "outputs": [],
   "source": [
    "for i, v in enumerate(color_df['primary_color']):\n",
    "    if v == 'Red':\n",
    "        color_df['primary_color'][i] ='Orange'\n",
    "    elif v == 'Tortie':\n",
    "        color_df['primary_color'][i] ='Tricolor'\n",
    "    elif v == 'Calico':\n",
    "        color_df['primary_color'][i] ='Tricolor'\n",
    "    elif v == 'Torbie':\n",
    "        color_df['primary_color'][i] ='Tricolor'\n",
    "    elif v == 'Sable':\n",
    "        color_df['primary_color'][i] ='Tan'\n",
    "    elif v == 'Cream':\n",
    "        color_df['primary_color'][i] ='Tan'\n",
    "    elif v == 'Chocolate':\n",
    "        color_df['primary_color'][i] ='Brown'\n",
    "    elif v == 'Gray':\n",
    "        color_df['primary_color'][i] ='Gray'\n",
    "    elif v in ['Buff', 'Yellow' , 'Fawn' , 'Lynx' ,\\\n",
    "              'Seal' , 'Silver' , 'Flame' , 'Gold' ,\\\n",
    "              'Lilac' , 'Apricot' , 'Liver' , 'Agouti' ,\\\n",
    "              'Pink' , 'Ruddy']:\n",
    "        color_df['primary_color'][i] = 'Other'"
   ]
  },
  {
   "cell_type": "code",
   "execution_count": 24,
   "id": "402526b2",
   "metadata": {
    "ExecuteTime": {
     "end_time": "2022-07-06T20:35:51.445491Z",
     "start_time": "2022-07-06T20:35:51.431490Z"
    }
   },
   "outputs": [],
   "source": [
    "test = test.join(color_df['primary_color'])"
   ]
  },
  {
   "cell_type": "code",
   "execution_count": 25,
   "id": "d179eeab",
   "metadata": {
    "ExecuteTime": {
     "end_time": "2022-07-06T20:35:51.475491Z",
     "start_time": "2022-07-06T20:35:51.448491Z"
    }
   },
   "outputs": [],
   "source": [
    "train.drop(['animalid','color'], axis=1, inplace=True)\n",
    "test.drop(['color'], axis=1, inplace=True)"
   ]
  },
  {
   "cell_type": "code",
   "execution_count": 26,
   "id": "73de0045",
   "metadata": {
    "ExecuteTime": {
     "end_time": "2022-07-06T20:35:51.506490Z",
     "start_time": "2022-07-06T20:35:51.479493Z"
    }
   },
   "outputs": [],
   "source": [
    "train = train[~(train.ageuponoutcome.isnull()) & ~(train.sexuponoutcome.isnull())]"
   ]
  },
  {
   "cell_type": "code",
   "execution_count": 27,
   "id": "e86e42ed",
   "metadata": {
    "ExecuteTime": {
     "end_time": "2022-07-06T20:35:51.553496Z",
     "start_time": "2022-07-06T20:35:51.511493Z"
    }
   },
   "outputs": [],
   "source": [
    "train.join(pd.get_dummies(train.animaltype, drop_first=True))\n",
    "train.drop('animaltype',axis=1,inplace=True)\n",
    "\n",
    "test.join(pd.get_dummies(test.animaltype, drop_first=True))\n",
    "test.drop('animaltype',axis=1,inplace=True)"
   ]
  },
  {
   "cell_type": "code",
   "execution_count": 28,
   "id": "5d6462e4",
   "metadata": {
    "ExecuteTime": {
     "end_time": "2022-07-06T20:35:51.584491Z",
     "start_time": "2022-07-06T20:35:51.562492Z"
    }
   },
   "outputs": [
    {
     "data": {
      "text/plain": [
       "Neutered Male    0.365871\n",
       "Spayed Female    0.329991\n",
       "Intact Male      0.131884\n",
       "Intact Female    0.131360\n",
       "Unknown          0.040893\n",
       "Name: sexuponoutcome, dtype: float64"
      ]
     },
     "execution_count": 28,
     "metadata": {},
     "output_type": "execute_result"
    }
   ],
   "source": [
    "train.sexuponoutcome.value_counts(normalize=True)"
   ]
  },
  {
   "cell_type": "code",
   "execution_count": 29,
   "id": "4090b3d8",
   "metadata": {
    "ExecuteTime": {
     "end_time": "2022-07-06T20:35:51.663491Z",
     "start_time": "2022-07-06T20:35:51.587493Z"
    }
   },
   "outputs": [],
   "source": [
    "train['is_fixed'] = train.sexuponoutcome.map(lambda x: 1 if 'Neutered' in x\n",
    "                                             or 'Spayed' in x\n",
    "                                             else 0)\n",
    "test['is_fixed'] = test.sexuponoutcome.map(lambda x: 1 if 'Neutered' in x\n",
    "                                             or 'Spayed' in x\n",
    "                                             else 0)\n",
    "\n",
    "train['gender'] = train.sexuponoutcome.map(lambda x: 'male' if ' Male' in x\n",
    "                                          else 'female' if 'Female' in x\n",
    "                                          else 'unknown')\n",
    "test['gender'] = test.sexuponoutcome.map(lambda x: 'male' if ' Male' in x\n",
    "                                          else 'female' if 'Female' in x\n",
    "                                          else 'unknown')"
   ]
  },
  {
   "cell_type": "code",
   "execution_count": 30,
   "id": "eac5a82d",
   "metadata": {
    "ExecuteTime": {
     "end_time": "2022-07-06T20:35:51.710531Z",
     "start_time": "2022-07-06T20:35:51.667492Z"
    }
   },
   "outputs": [],
   "source": [
    "train = train.join(pd.get_dummies(train.gender)[['male','female']])\n",
    "\n",
    "test = test.join(pd.get_dummies(test.gender)[['male','female']])\n",
    "\n",
    "train.drop(['gender','sexuponoutcome'], axis=1, inplace=True)\n",
    "test.drop(['gender','sexuponoutcome'], axis=1, inplace=True)"
   ]
  },
  {
   "cell_type": "code",
   "execution_count": 34,
   "id": "e16771d4",
   "metadata": {
    "ExecuteTime": {
     "end_time": "2022-07-06T20:37:44.001221Z",
     "start_time": "2022-07-06T20:37:43.976220Z"
    }
   },
   "outputs": [],
   "source": [
    "train = train.join(pd.get_dummies(train.age_category, prefix = 'age', drop_first=True))\n",
    "test = test.join(pd.get_dummies(test.age_category, prefix = 'age', drop_first=True))\n",
    "\n",
    "train.drop('age_category', axis=1, inplace=True)\n",
    "test.drop('age_category', axis=1, inplace=True)"
   ]
  },
  {
   "cell_type": "code",
   "execution_count": 44,
   "id": "ed64663c",
   "metadata": {
    "ExecuteTime": {
     "end_time": "2022-07-06T20:40:22.669699Z",
     "start_time": "2022-07-06T20:40:22.647698Z"
    }
   },
   "outputs": [],
   "source": [
    "train = train.join(pd.get_dummies(train.primary_color, prefix = 'primary_color'))\n",
    "train.drop(['primary_color', 'primary_color_Other'], axis=1, inplace=True)\n",
    "\n",
    "test = test.join(pd.get_dummies(test.primary_color, prefix = 'primary_color'))\n",
    "test.drop(['primary_color', 'primary_color_Other'], axis=1, inplace=True)"
   ]
  },
  {
   "cell_type": "code",
   "execution_count": 47,
   "id": "f9ee8636",
   "metadata": {
    "ExecuteTime": {
     "end_time": "2022-07-06T20:41:10.865888Z",
     "start_time": "2022-07-06T20:41:10.112373Z"
    }
   },
   "outputs": [],
   "source": [
    "train['month'] = pd.to_datetime(train['datetime']).dt.strftime('%m')\n",
    "test['month'] = pd.to_datetime(test['datetime']).dt.strftime('%m')"
   ]
  },
  {
   "cell_type": "code",
   "execution_count": 48,
   "id": "f3b32782",
   "metadata": {
    "ExecuteTime": {
     "end_time": "2022-07-06T20:41:34.971014Z",
     "start_time": "2022-07-06T20:41:34.944012Z"
    }
   },
   "outputs": [],
   "source": [
    "map_month ={'01':'Jan',\n",
    "           '02':'Feb',\n",
    "            '03':'March',\n",
    "            '04':'April',\n",
    "           '05':'May',\n",
    "            '06':'June',\n",
    "           '07':'July',\n",
    "            '08':'Aug',\n",
    "           '09':'Sept',\n",
    "           '10':'Oct',\n",
    "           '11':'Nov',\n",
    "           '12':'Dec'}\n",
    "train['month']=train['month'].map(map_month)\n",
    "test['month']=test['month'].map(map_month)"
   ]
  },
  {
   "cell_type": "code",
   "execution_count": 49,
   "id": "93c20a2e",
   "metadata": {
    "ExecuteTime": {
     "end_time": "2022-07-06T20:41:50.584520Z",
     "start_time": "2022-07-06T20:41:50.567591Z"
    }
   },
   "outputs": [],
   "source": [
    "train.drop('datetime', axis=1, inplace=True)\n",
    "test.drop('datetime', axis=1, inplace=True)"
   ]
  },
  {
   "cell_type": "code",
   "execution_count": 58,
   "id": "49ab0f36",
   "metadata": {
    "ExecuteTime": {
     "end_time": "2022-07-06T20:44:15.192766Z",
     "start_time": "2022-07-06T20:44:14.774725Z"
    }
   },
   "outputs": [],
   "source": [
    "train.to_csv('train_eda.csv', index=False)\n",
    "test.to_csv('test_eda.csv', index=False)"
   ]
  }
 ],
 "metadata": {
  "kernelspec": {
   "display_name": "Python 3 (ipykernel)",
   "language": "python",
   "name": "python3"
  },
  "language_info": {
   "codemirror_mode": {
    "name": "ipython",
    "version": 3
   },
   "file_extension": ".py",
   "mimetype": "text/x-python",
   "name": "python",
   "nbconvert_exporter": "python",
   "pygments_lexer": "ipython3",
   "version": "3.9.12"
  },
  "toc": {
   "base_numbering": 1,
   "nav_menu": {},
   "number_sections": false,
   "sideBar": true,
   "skip_h1_title": false,
   "title_cell": "Table of Contents",
   "title_sidebar": "Contents",
   "toc_cell": false,
   "toc_position": {},
   "toc_section_display": true,
   "toc_window_display": false
  }
 },
 "nbformat": 4,
 "nbformat_minor": 5
}
