{
 "cells": [
  {
   "cell_type": "code",
   "execution_count": 1,
   "id": "198902de",
   "metadata": {
    "ExecuteTime": {
     "end_time": "2022-07-06T22:51:18.868995Z",
     "start_time": "2022-07-06T22:51:05.494321Z"
    }
   },
   "outputs": [],
   "source": [
    "# Import libraries and modules\n",
    "import numpy as np\n",
    "import pandas as pd\n",
    "import matplotlib.pyplot as plt\n",
    "from sklearn.model_selection import train_test_split, cross_val_score\n",
    "from sklearn.preprocessing import StandardScaler\n",
    "\n",
    "# For reproducibility\n",
    "np.random.seed(42)\n",
    "\n",
    "from tensorflow.keras.models import Sequential\n",
    "from tensorflow.keras.layers import Dense, Dropout, Flatten, Conv2D, MaxPooling2D\n",
    "from tensorflow.keras import utils\n",
    "from tensorflow.keras.datasets import mnist\n",
    " "
   ]
  },
  {
   "cell_type": "code",
   "execution_count": 2,
   "id": "e542ba5e",
   "metadata": {
    "ExecuteTime": {
     "end_time": "2022-07-06T22:51:19.038976Z",
     "start_time": "2022-07-06T22:51:18.872975Z"
    }
   },
   "outputs": [],
   "source": [
    "train=pd.read_csv('train_eda.csv')\n",
    "test=pd.read_csv('test_eda.csv')"
   ]
  },
  {
   "cell_type": "code",
   "execution_count": 3,
   "id": "916e9833",
   "metadata": {
    "ExecuteTime": {
     "end_time": "2022-07-06T22:51:19.084980Z",
     "start_time": "2022-07-06T22:51:19.041975Z"
    }
   },
   "outputs": [
    {
     "data": {
      "text/html": [
       "<div>\n",
       "<style scoped>\n",
       "    .dataframe tbody tr th:only-of-type {\n",
       "        vertical-align: middle;\n",
       "    }\n",
       "\n",
       "    .dataframe tbody tr th {\n",
       "        vertical-align: top;\n",
       "    }\n",
       "\n",
       "    .dataframe thead th {\n",
       "        text-align: right;\n",
       "    }\n",
       "</style>\n",
       "<table border=\"1\" class=\"dataframe\">\n",
       "  <thead>\n",
       "    <tr style=\"text-align: right;\">\n",
       "      <th></th>\n",
       "      <th>outcometype</th>\n",
       "      <th>ageuponoutcome</th>\n",
       "      <th>has_name</th>\n",
       "      <th>is_mix</th>\n",
       "      <th>cat_breed_shorthair</th>\n",
       "      <th>cat_breed_mediumhair</th>\n",
       "      <th>cat_breed_longhair</th>\n",
       "      <th>cat_breed_siamese</th>\n",
       "      <th>dog_breed_chihuahua</th>\n",
       "      <th>dog_breed_pitbull</th>\n",
       "      <th>...</th>\n",
       "      <th>age_old</th>\n",
       "      <th>primary_color_Black</th>\n",
       "      <th>primary_color_Blue</th>\n",
       "      <th>primary_color_Brown</th>\n",
       "      <th>primary_color_Gray</th>\n",
       "      <th>primary_color_Orange</th>\n",
       "      <th>primary_color_Tan</th>\n",
       "      <th>primary_color_Tricolor</th>\n",
       "      <th>primary_color_White</th>\n",
       "      <th>month</th>\n",
       "    </tr>\n",
       "  </thead>\n",
       "  <tbody>\n",
       "    <tr>\n",
       "      <th>0</th>\n",
       "      <td>Return_to_owner</td>\n",
       "      <td>1.00</td>\n",
       "      <td>1</td>\n",
       "      <td>1</td>\n",
       "      <td>0</td>\n",
       "      <td>0</td>\n",
       "      <td>0</td>\n",
       "      <td>0</td>\n",
       "      <td>0</td>\n",
       "      <td>0</td>\n",
       "      <td>...</td>\n",
       "      <td>0</td>\n",
       "      <td>0</td>\n",
       "      <td>0</td>\n",
       "      <td>1</td>\n",
       "      <td>0</td>\n",
       "      <td>0</td>\n",
       "      <td>0</td>\n",
       "      <td>0</td>\n",
       "      <td>0</td>\n",
       "      <td>Feb</td>\n",
       "    </tr>\n",
       "    <tr>\n",
       "      <th>1</th>\n",
       "      <td>Euthanasia</td>\n",
       "      <td>1.00</td>\n",
       "      <td>1</td>\n",
       "      <td>1</td>\n",
       "      <td>1</td>\n",
       "      <td>0</td>\n",
       "      <td>0</td>\n",
       "      <td>0</td>\n",
       "      <td>0</td>\n",
       "      <td>0</td>\n",
       "      <td>...</td>\n",
       "      <td>0</td>\n",
       "      <td>0</td>\n",
       "      <td>0</td>\n",
       "      <td>0</td>\n",
       "      <td>0</td>\n",
       "      <td>0</td>\n",
       "      <td>1</td>\n",
       "      <td>0</td>\n",
       "      <td>0</td>\n",
       "      <td>Oct</td>\n",
       "    </tr>\n",
       "    <tr>\n",
       "      <th>2</th>\n",
       "      <td>Adoption</td>\n",
       "      <td>2.00</td>\n",
       "      <td>1</td>\n",
       "      <td>1</td>\n",
       "      <td>0</td>\n",
       "      <td>0</td>\n",
       "      <td>0</td>\n",
       "      <td>0</td>\n",
       "      <td>0</td>\n",
       "      <td>1</td>\n",
       "      <td>...</td>\n",
       "      <td>0</td>\n",
       "      <td>0</td>\n",
       "      <td>1</td>\n",
       "      <td>0</td>\n",
       "      <td>0</td>\n",
       "      <td>0</td>\n",
       "      <td>0</td>\n",
       "      <td>0</td>\n",
       "      <td>0</td>\n",
       "      <td>Jan</td>\n",
       "    </tr>\n",
       "    <tr>\n",
       "      <th>3</th>\n",
       "      <td>Transfer</td>\n",
       "      <td>0.06</td>\n",
       "      <td>0</td>\n",
       "      <td>1</td>\n",
       "      <td>1</td>\n",
       "      <td>0</td>\n",
       "      <td>0</td>\n",
       "      <td>0</td>\n",
       "      <td>0</td>\n",
       "      <td>0</td>\n",
       "      <td>...</td>\n",
       "      <td>0</td>\n",
       "      <td>0</td>\n",
       "      <td>1</td>\n",
       "      <td>0</td>\n",
       "      <td>0</td>\n",
       "      <td>0</td>\n",
       "      <td>0</td>\n",
       "      <td>0</td>\n",
       "      <td>0</td>\n",
       "      <td>July</td>\n",
       "    </tr>\n",
       "    <tr>\n",
       "      <th>4</th>\n",
       "      <td>Transfer</td>\n",
       "      <td>2.00</td>\n",
       "      <td>0</td>\n",
       "      <td>1</td>\n",
       "      <td>0</td>\n",
       "      <td>0</td>\n",
       "      <td>0</td>\n",
       "      <td>0</td>\n",
       "      <td>0</td>\n",
       "      <td>0</td>\n",
       "      <td>...</td>\n",
       "      <td>0</td>\n",
       "      <td>0</td>\n",
       "      <td>0</td>\n",
       "      <td>0</td>\n",
       "      <td>0</td>\n",
       "      <td>0</td>\n",
       "      <td>1</td>\n",
       "      <td>0</td>\n",
       "      <td>0</td>\n",
       "      <td>Nov</td>\n",
       "    </tr>\n",
       "  </tbody>\n",
       "</table>\n",
       "<p>5 rows × 28 columns</p>\n",
       "</div>"
      ],
      "text/plain": [
       "       outcometype  ageuponoutcome  has_name  is_mix  cat_breed_shorthair  \\\n",
       "0  Return_to_owner            1.00         1       1                    0   \n",
       "1       Euthanasia            1.00         1       1                    1   \n",
       "2         Adoption            2.00         1       1                    0   \n",
       "3         Transfer            0.06         0       1                    1   \n",
       "4         Transfer            2.00         0       1                    0   \n",
       "\n",
       "   cat_breed_mediumhair  cat_breed_longhair  cat_breed_siamese  \\\n",
       "0                     0                   0                  0   \n",
       "1                     0                   0                  0   \n",
       "2                     0                   0                  0   \n",
       "3                     0                   0                  0   \n",
       "4                     0                   0                  0   \n",
       "\n",
       "   dog_breed_chihuahua  dog_breed_pitbull  ...  age_old  primary_color_Black  \\\n",
       "0                    0                  0  ...        0                    0   \n",
       "1                    0                  0  ...        0                    0   \n",
       "2                    0                  1  ...        0                    0   \n",
       "3                    0                  0  ...        0                    0   \n",
       "4                    0                  0  ...        0                    0   \n",
       "\n",
       "   primary_color_Blue  primary_color_Brown  primary_color_Gray  \\\n",
       "0                   0                    1                   0   \n",
       "1                   0                    0                   0   \n",
       "2                   1                    0                   0   \n",
       "3                   1                    0                   0   \n",
       "4                   0                    0                   0   \n",
       "\n",
       "   primary_color_Orange  primary_color_Tan  primary_color_Tricolor  \\\n",
       "0                     0                  0                       0   \n",
       "1                     0                  1                       0   \n",
       "2                     0                  0                       0   \n",
       "3                     0                  0                       0   \n",
       "4                     0                  1                       0   \n",
       "\n",
       "   primary_color_White  month  \n",
       "0                    0    Feb  \n",
       "1                    0    Oct  \n",
       "2                    0    Jan  \n",
       "3                    0   July  \n",
       "4                    0    Nov  \n",
       "\n",
       "[5 rows x 28 columns]"
      ]
     },
     "execution_count": 3,
     "metadata": {},
     "output_type": "execute_result"
    }
   ],
   "source": [
    "train.head()"
   ]
  },
  {
   "cell_type": "code",
   "execution_count": 4,
   "id": "c113d677",
   "metadata": {
    "ExecuteTime": {
     "end_time": "2022-07-06T22:51:19.131045Z",
     "start_time": "2022-07-06T22:51:19.089974Z"
    }
   },
   "outputs": [],
   "source": [
    "train['outcometype'] = [0 if x == 'Return_to_owner' \n",
    "                   else 1 if x == \"Euthanasia\" \n",
    "                   else 2 if x=='Adoption'\n",
    "                   else 3 if x=='Transfer'\n",
    "                   else 4 for x in train['outcometype'] ]"
   ]
  },
  {
   "cell_type": "code",
   "execution_count": 5,
   "id": "c46bf284",
   "metadata": {
    "ExecuteTime": {
     "end_time": "2022-07-06T22:51:19.162974Z",
     "start_time": "2022-07-06T22:51:19.134975Z"
    }
   },
   "outputs": [],
   "source": [
    "y =train.outcometype \n",
    "X = train.drop(columns=['outcometype','month'])"
   ]
  },
  {
   "cell_type": "code",
   "execution_count": 6,
   "id": "9d3341ab",
   "metadata": {
    "ExecuteTime": {
     "end_time": "2022-07-06T22:51:19.178974Z",
     "start_time": "2022-07-06T22:51:19.164975Z"
    }
   },
   "outputs": [],
   "source": [
    "y = utils.to_categorical(y, num_classes=5)"
   ]
  },
  {
   "cell_type": "code",
   "execution_count": 7,
   "id": "b2007794",
   "metadata": {
    "ExecuteTime": {
     "end_time": "2022-07-06T22:51:19.194974Z",
     "start_time": "2022-07-06T22:51:19.181975Z"
    }
   },
   "outputs": [
    {
     "data": {
      "text/plain": [
       "(26728, 26)"
      ]
     },
     "execution_count": 7,
     "metadata": {},
     "output_type": "execute_result"
    }
   ],
   "source": [
    "X.shape"
   ]
  },
  {
   "cell_type": "code",
   "execution_count": 8,
   "id": "2ee4fdcf",
   "metadata": {
    "ExecuteTime": {
     "end_time": "2022-07-06T22:51:19.210976Z",
     "start_time": "2022-07-06T22:51:19.197975Z"
    }
   },
   "outputs": [
    {
     "data": {
      "text/plain": [
       "(26728, 5)"
      ]
     },
     "execution_count": 8,
     "metadata": {},
     "output_type": "execute_result"
    }
   ],
   "source": [
    "y.shape"
   ]
  },
  {
   "cell_type": "code",
   "execution_count": 9,
   "id": "86fe3020",
   "metadata": {
    "ExecuteTime": {
     "end_time": "2022-07-06T22:51:19.243009Z",
     "start_time": "2022-07-06T22:51:19.213974Z"
    }
   },
   "outputs": [],
   "source": [
    "X_train, X_test, y_train, y_test = train_test_split(X, y,\n",
    "                                                    random_state=73)"
   ]
  },
  {
   "cell_type": "code",
   "execution_count": 10,
   "id": "abaafa7f",
   "metadata": {
    "ExecuteTime": {
     "end_time": "2022-07-06T22:51:19.289974Z",
     "start_time": "2022-07-06T22:51:19.247974Z"
    }
   },
   "outputs": [],
   "source": [
    "ss = StandardScaler()\n",
    "X_train_sc = ss.fit_transform(X_train)\n",
    "X_test_sc = ss.transform(X_test)"
   ]
  },
  {
   "cell_type": "code",
   "execution_count": 29,
   "id": "aef2710a",
   "metadata": {
    "ExecuteTime": {
     "end_time": "2022-07-06T22:52:56.845835Z",
     "start_time": "2022-07-06T22:52:56.826887Z"
    }
   },
   "outputs": [],
   "source": [
    "model = Sequential()"
   ]
  },
  {
   "cell_type": "code",
   "execution_count": 30,
   "id": "2e9fda9b",
   "metadata": {
    "ExecuteTime": {
     "end_time": "2022-07-06T22:52:57.425479Z",
     "start_time": "2022-07-06T22:52:57.328928Z"
    }
   },
   "outputs": [],
   "source": [
    "\n",
    "model.add(Dense(20, # num of neurons in first hidden layer\n",
    "                input_shape=(26,), # num neurons in input layer\n",
    "                activation='relu'))\n",
    "\n",
    "model.add(Dense(10, activation='relu'))\n",
    "model.add(Dense(5, activation='relu'))\n",
    "model.add(Dense(5, activation='softmax'))"
   ]
  },
  {
   "cell_type": "code",
   "execution_count": 31,
   "id": "e316cdcf",
   "metadata": {
    "ExecuteTime": {
     "end_time": "2022-07-06T22:52:58.061813Z",
     "start_time": "2022-07-06T22:52:58.041813Z"
    }
   },
   "outputs": [
    {
     "data": {
      "text/plain": [
       "[<keras.layers.core.dense.Dense at 0x241f31f1f70>,\n",
       " <keras.layers.core.dense.Dense at 0x241f2d62a30>,\n",
       " <keras.layers.core.dense.Dense at 0x241f2fb2ee0>,\n",
       " <keras.layers.core.dense.Dense at 0x241f2af2ac0>]"
      ]
     },
     "execution_count": 31,
     "metadata": {},
     "output_type": "execute_result"
    }
   ],
   "source": [
    "\n",
    "model.layers"
   ]
  },
  {
   "cell_type": "code",
   "execution_count": 32,
   "id": "438cd4a1",
   "metadata": {
    "ExecuteTime": {
     "end_time": "2022-07-06T22:52:58.534446Z",
     "start_time": "2022-07-06T22:52:58.515446Z"
    }
   },
   "outputs": [],
   "source": [
    "model.compile(loss='categorical_crossentropy',\n",
    "              optimizer='adam',\n",
    "              metrics=['accuracy'])"
   ]
  },
  {
   "cell_type": "code",
   "execution_count": 33,
   "id": "8a094fe9",
   "metadata": {
    "ExecuteTime": {
     "end_time": "2022-07-06T22:53:38.995402Z",
     "start_time": "2022-07-06T22:52:59.675644Z"
    }
   },
   "outputs": [
    {
     "name": "stdout",
     "output_type": "stream",
     "text": [
      "Epoch 1/200\n",
      "40/40 [==============================] - 2s 16ms/step - loss: 1.7712 - accuracy: 0.1094 - val_loss: 1.6437 - val_accuracy: 0.1835\n",
      "Epoch 2/200\n",
      "40/40 [==============================] - 0s 4ms/step - loss: 1.5956 - accuracy: 0.3417 - val_loss: 1.5627 - val_accuracy: 0.4750\n",
      "Epoch 3/200\n",
      "40/40 [==============================] - 0s 5ms/step - loss: 1.5407 - accuracy: 0.4969 - val_loss: 1.5249 - val_accuracy: 0.5162\n",
      "Epoch 4/200\n",
      "40/40 [==============================] - 0s 4ms/step - loss: 1.5005 - accuracy: 0.5497 - val_loss: 1.4819 - val_accuracy: 0.5648\n",
      "Epoch 5/200\n",
      "40/40 [==============================] - 0s 4ms/step - loss: 1.4475 - accuracy: 0.5803 - val_loss: 1.4218 - val_accuracy: 0.5765\n",
      "Epoch 6/200\n",
      "40/40 [==============================] - 0s 4ms/step - loss: 1.3758 - accuracy: 0.5888 - val_loss: 1.3450 - val_accuracy: 0.5850\n",
      "Epoch 7/200\n",
      "40/40 [==============================] - 0s 4ms/step - loss: 1.2867 - accuracy: 0.6017 - val_loss: 1.2511 - val_accuracy: 0.6016\n",
      "Epoch 8/200\n",
      "40/40 [==============================] - 0s 4ms/step - loss: 1.1865 - accuracy: 0.6191 - val_loss: 1.1472 - val_accuracy: 0.6122\n",
      "Epoch 9/200\n",
      "40/40 [==============================] - 0s 4ms/step - loss: 1.0859 - accuracy: 0.6264 - val_loss: 1.0555 - val_accuracy: 0.6148\n",
      "Epoch 10/200\n",
      "40/40 [==============================] - 0s 5ms/step - loss: 1.0120 - accuracy: 0.6303 - val_loss: 1.0061 - val_accuracy: 0.6133\n",
      "Epoch 11/200\n",
      "40/40 [==============================] - 0s 5ms/step - loss: 0.9775 - accuracy: 0.6297 - val_loss: 0.9865 - val_accuracy: 0.6101\n",
      "Epoch 12/200\n",
      "40/40 [==============================] - 0s 4ms/step - loss: 0.9595 - accuracy: 0.6281 - val_loss: 0.9706 - val_accuracy: 0.6085\n",
      "Epoch 13/200\n",
      "40/40 [==============================] - 0s 4ms/step - loss: 0.9452 - accuracy: 0.6273 - val_loss: 0.9590 - val_accuracy: 0.6106\n",
      "Epoch 14/200\n",
      "40/40 [==============================] - 0s 5ms/step - loss: 0.9332 - accuracy: 0.6311 - val_loss: 0.9485 - val_accuracy: 0.6118\n",
      "Epoch 15/200\n",
      "40/40 [==============================] - 0s 4ms/step - loss: 0.9225 - accuracy: 0.6312 - val_loss: 0.9388 - val_accuracy: 0.6169\n",
      "Epoch 16/200\n",
      "40/40 [==============================] - 0s 5ms/step - loss: 0.9129 - accuracy: 0.6337 - val_loss: 0.9300 - val_accuracy: 0.6185\n",
      "Epoch 17/200\n",
      "40/40 [==============================] - 0s 4ms/step - loss: 0.9043 - accuracy: 0.6346 - val_loss: 0.9227 - val_accuracy: 0.6205\n",
      "Epoch 18/200\n",
      "40/40 [==============================] - 0s 5ms/step - loss: 0.8964 - accuracy: 0.6369 - val_loss: 0.9158 - val_accuracy: 0.6223\n",
      "Epoch 19/200\n",
      "40/40 [==============================] - 0s 4ms/step - loss: 0.8872 - accuracy: 0.6396 - val_loss: 0.9064 - val_accuracy: 0.6292\n",
      "Epoch 20/200\n",
      "40/40 [==============================] - 0s 4ms/step - loss: 0.8800 - accuracy: 0.6440 - val_loss: 0.9016 - val_accuracy: 0.6333\n",
      "Epoch 21/200\n",
      "40/40 [==============================] - 0s 4ms/step - loss: 0.8758 - accuracy: 0.6437 - val_loss: 0.8986 - val_accuracy: 0.6330\n",
      "Epoch 22/200\n",
      "40/40 [==============================] - 0s 4ms/step - loss: 0.8735 - accuracy: 0.6445 - val_loss: 0.8964 - val_accuracy: 0.6335\n",
      "Epoch 23/200\n",
      "40/40 [==============================] - 0s 4ms/step - loss: 0.8710 - accuracy: 0.6454 - val_loss: 0.8943 - val_accuracy: 0.6321\n",
      "Epoch 24/200\n",
      "40/40 [==============================] - 0s 5ms/step - loss: 0.8692 - accuracy: 0.6453 - val_loss: 0.8925 - val_accuracy: 0.6330\n",
      "Epoch 25/200\n",
      "40/40 [==============================] - 0s 4ms/step - loss: 0.8681 - accuracy: 0.6453 - val_loss: 0.8913 - val_accuracy: 0.6350\n",
      "Epoch 26/200\n",
      "40/40 [==============================] - 0s 4ms/step - loss: 0.8661 - accuracy: 0.6459 - val_loss: 0.8904 - val_accuracy: 0.6360\n",
      "Epoch 27/200\n",
      "40/40 [==============================] - 0s 4ms/step - loss: 0.8656 - accuracy: 0.6474 - val_loss: 0.8885 - val_accuracy: 0.6362\n",
      "Epoch 28/200\n",
      "40/40 [==============================] - 0s 4ms/step - loss: 0.8635 - accuracy: 0.6467 - val_loss: 0.8882 - val_accuracy: 0.6308\n",
      "Epoch 29/200\n",
      "40/40 [==============================] - 0s 5ms/step - loss: 0.8623 - accuracy: 0.6471 - val_loss: 0.8870 - val_accuracy: 0.6357\n",
      "Epoch 30/200\n",
      "40/40 [==============================] - 0s 4ms/step - loss: 0.8615 - accuracy: 0.6468 - val_loss: 0.8860 - val_accuracy: 0.6335\n",
      "Epoch 31/200\n",
      "40/40 [==============================] - 0s 5ms/step - loss: 0.8601 - accuracy: 0.6488 - val_loss: 0.8853 - val_accuracy: 0.6369\n",
      "Epoch 32/200\n",
      "40/40 [==============================] - 0s 5ms/step - loss: 0.8592 - accuracy: 0.6490 - val_loss: 0.8842 - val_accuracy: 0.6365\n",
      "Epoch 33/200\n",
      "40/40 [==============================] - 0s 4ms/step - loss: 0.8583 - accuracy: 0.6491 - val_loss: 0.8842 - val_accuracy: 0.6327\n",
      "Epoch 34/200\n",
      "40/40 [==============================] - 0s 5ms/step - loss: 0.8574 - accuracy: 0.6503 - val_loss: 0.8827 - val_accuracy: 0.6384\n",
      "Epoch 35/200\n",
      "40/40 [==============================] - 0s 4ms/step - loss: 0.8572 - accuracy: 0.6520 - val_loss: 0.8830 - val_accuracy: 0.6339\n",
      "Epoch 36/200\n",
      "40/40 [==============================] - 0s 4ms/step - loss: 0.8562 - accuracy: 0.6503 - val_loss: 0.8818 - val_accuracy: 0.6365\n",
      "Epoch 37/200\n",
      "40/40 [==============================] - 0s 4ms/step - loss: 0.8558 - accuracy: 0.6523 - val_loss: 0.8822 - val_accuracy: 0.6344\n",
      "Epoch 38/200\n",
      "40/40 [==============================] - 0s 4ms/step - loss: 0.8554 - accuracy: 0.6522 - val_loss: 0.8810 - val_accuracy: 0.6347\n",
      "Epoch 39/200\n",
      "40/40 [==============================] - 0s 4ms/step - loss: 0.8548 - accuracy: 0.6527 - val_loss: 0.8808 - val_accuracy: 0.6329\n",
      "Epoch 40/200\n",
      "40/40 [==============================] - 0s 4ms/step - loss: 0.8539 - accuracy: 0.6520 - val_loss: 0.8795 - val_accuracy: 0.6378\n",
      "Epoch 41/200\n",
      "40/40 [==============================] - 0s 5ms/step - loss: 0.8534 - accuracy: 0.6531 - val_loss: 0.8795 - val_accuracy: 0.6383\n",
      "Epoch 42/200\n",
      "40/40 [==============================] - 0s 5ms/step - loss: 0.8529 - accuracy: 0.6515 - val_loss: 0.8790 - val_accuracy: 0.6389\n",
      "Epoch 43/200\n",
      "40/40 [==============================] - 0s 5ms/step - loss: 0.8523 - accuracy: 0.6524 - val_loss: 0.8788 - val_accuracy: 0.6360\n",
      "Epoch 44/200\n",
      "40/40 [==============================] - 0s 5ms/step - loss: 0.8524 - accuracy: 0.6527 - val_loss: 0.8784 - val_accuracy: 0.6374\n",
      "Epoch 45/200\n",
      "40/40 [==============================] - 0s 5ms/step - loss: 0.8521 - accuracy: 0.6537 - val_loss: 0.8785 - val_accuracy: 0.6345\n",
      "Epoch 46/200\n",
      "40/40 [==============================] - 0s 5ms/step - loss: 0.8509 - accuracy: 0.6537 - val_loss: 0.8778 - val_accuracy: 0.6380\n",
      "Epoch 47/200\n",
      "40/40 [==============================] - 0s 6ms/step - loss: 0.8504 - accuracy: 0.6543 - val_loss: 0.8782 - val_accuracy: 0.6330\n",
      "Epoch 48/200\n",
      "40/40 [==============================] - 0s 5ms/step - loss: 0.8504 - accuracy: 0.6539 - val_loss: 0.8767 - val_accuracy: 0.6398\n",
      "Epoch 49/200\n",
      "40/40 [==============================] - 0s 5ms/step - loss: 0.8502 - accuracy: 0.6529 - val_loss: 0.8773 - val_accuracy: 0.6374\n",
      "Epoch 50/200\n",
      "40/40 [==============================] - 0s 5ms/step - loss: 0.8493 - accuracy: 0.6528 - val_loss: 0.8769 - val_accuracy: 0.6383\n",
      "Epoch 51/200\n",
      "40/40 [==============================] - 0s 5ms/step - loss: 0.8491 - accuracy: 0.6533 - val_loss: 0.8762 - val_accuracy: 0.6354\n",
      "Epoch 52/200\n",
      "40/40 [==============================] - 0s 5ms/step - loss: 0.8489 - accuracy: 0.6534 - val_loss: 0.8760 - val_accuracy: 0.6390\n",
      "Epoch 53/200\n",
      "40/40 [==============================] - 0s 5ms/step - loss: 0.8484 - accuracy: 0.6538 - val_loss: 0.8756 - val_accuracy: 0.6377\n",
      "Epoch 54/200\n",
      "40/40 [==============================] - 0s 5ms/step - loss: 0.8482 - accuracy: 0.6539 - val_loss: 0.8754 - val_accuracy: 0.6369\n",
      "Epoch 55/200\n",
      "40/40 [==============================] - 0s 5ms/step - loss: 0.8478 - accuracy: 0.6532 - val_loss: 0.8750 - val_accuracy: 0.6384\n",
      "Epoch 56/200\n",
      "40/40 [==============================] - 0s 5ms/step - loss: 0.8473 - accuracy: 0.6541 - val_loss: 0.8757 - val_accuracy: 0.6360\n",
      "Epoch 57/200\n",
      "40/40 [==============================] - 0s 5ms/step - loss: 0.8471 - accuracy: 0.6545 - val_loss: 0.8748 - val_accuracy: 0.6384\n",
      "Epoch 58/200\n",
      "40/40 [==============================] - 0s 4ms/step - loss: 0.8465 - accuracy: 0.6534 - val_loss: 0.8751 - val_accuracy: 0.6366\n"
     ]
    },
    {
     "name": "stdout",
     "output_type": "stream",
     "text": [
      "Epoch 59/200\n",
      "40/40 [==============================] - 0s 5ms/step - loss: 0.8467 - accuracy: 0.6534 - val_loss: 0.8752 - val_accuracy: 0.6350\n",
      "Epoch 60/200\n",
      "40/40 [==============================] - 0s 4ms/step - loss: 0.8462 - accuracy: 0.6547 - val_loss: 0.8744 - val_accuracy: 0.6396\n",
      "Epoch 61/200\n",
      "40/40 [==============================] - 0s 4ms/step - loss: 0.8458 - accuracy: 0.6536 - val_loss: 0.8756 - val_accuracy: 0.6375\n",
      "Epoch 62/200\n",
      "40/40 [==============================] - 0s 5ms/step - loss: 0.8454 - accuracy: 0.6542 - val_loss: 0.8751 - val_accuracy: 0.6374\n",
      "Epoch 63/200\n",
      "40/40 [==============================] - 0s 5ms/step - loss: 0.8453 - accuracy: 0.6548 - val_loss: 0.8748 - val_accuracy: 0.6365\n",
      "Epoch 64/200\n",
      "40/40 [==============================] - 0s 5ms/step - loss: 0.8450 - accuracy: 0.6544 - val_loss: 0.8742 - val_accuracy: 0.6378\n",
      "Epoch 65/200\n",
      "40/40 [==============================] - 0s 4ms/step - loss: 0.8447 - accuracy: 0.6546 - val_loss: 0.8738 - val_accuracy: 0.6384\n",
      "Epoch 66/200\n",
      "40/40 [==============================] - 0s 5ms/step - loss: 0.8447 - accuracy: 0.6527 - val_loss: 0.8728 - val_accuracy: 0.6395\n",
      "Epoch 67/200\n",
      "40/40 [==============================] - 0s 5ms/step - loss: 0.8440 - accuracy: 0.6544 - val_loss: 0.8739 - val_accuracy: 0.6389\n",
      "Epoch 68/200\n",
      "40/40 [==============================] - 0s 5ms/step - loss: 0.8441 - accuracy: 0.6550 - val_loss: 0.8736 - val_accuracy: 0.6392\n",
      "Epoch 69/200\n",
      "40/40 [==============================] - 0s 5ms/step - loss: 0.8435 - accuracy: 0.6543 - val_loss: 0.8739 - val_accuracy: 0.6365\n",
      "Epoch 70/200\n",
      "40/40 [==============================] - 0s 5ms/step - loss: 0.8435 - accuracy: 0.6544 - val_loss: 0.8735 - val_accuracy: 0.6401\n",
      "Epoch 71/200\n",
      "40/40 [==============================] - 0s 4ms/step - loss: 0.8435 - accuracy: 0.6550 - val_loss: 0.8737 - val_accuracy: 0.6383\n",
      "Epoch 72/200\n",
      "40/40 [==============================] - 0s 5ms/step - loss: 0.8432 - accuracy: 0.6534 - val_loss: 0.8733 - val_accuracy: 0.6398\n",
      "Epoch 73/200\n",
      "40/40 [==============================] - 0s 5ms/step - loss: 0.8431 - accuracy: 0.6548 - val_loss: 0.8734 - val_accuracy: 0.6386\n",
      "Epoch 74/200\n",
      "40/40 [==============================] - 0s 5ms/step - loss: 0.8426 - accuracy: 0.6551 - val_loss: 0.8723 - val_accuracy: 0.6408\n",
      "Epoch 75/200\n",
      "40/40 [==============================] - 0s 4ms/step - loss: 0.8434 - accuracy: 0.6539 - val_loss: 0.8720 - val_accuracy: 0.6402\n",
      "Epoch 76/200\n",
      "40/40 [==============================] - 0s 4ms/step - loss: 0.8424 - accuracy: 0.6563 - val_loss: 0.8725 - val_accuracy: 0.6401\n",
      "Epoch 77/200\n",
      "40/40 [==============================] - 0s 4ms/step - loss: 0.8424 - accuracy: 0.6550 - val_loss: 0.8723 - val_accuracy: 0.6387\n",
      "Epoch 78/200\n",
      "40/40 [==============================] - 0s 4ms/step - loss: 0.8422 - accuracy: 0.6553 - val_loss: 0.8726 - val_accuracy: 0.6387\n",
      "Epoch 79/200\n",
      "40/40 [==============================] - 0s 5ms/step - loss: 0.8422 - accuracy: 0.6556 - val_loss: 0.8723 - val_accuracy: 0.6398\n",
      "Epoch 80/200\n",
      "40/40 [==============================] - 0s 5ms/step - loss: 0.8422 - accuracy: 0.6541 - val_loss: 0.8714 - val_accuracy: 0.6398\n",
      "Epoch 81/200\n",
      "40/40 [==============================] - 0s 5ms/step - loss: 0.8422 - accuracy: 0.6534 - val_loss: 0.8727 - val_accuracy: 0.6398\n",
      "Epoch 82/200\n",
      "40/40 [==============================] - 0s 5ms/step - loss: 0.8418 - accuracy: 0.6549 - val_loss: 0.8733 - val_accuracy: 0.6378\n",
      "Epoch 83/200\n",
      "40/40 [==============================] - 0s 5ms/step - loss: 0.8415 - accuracy: 0.6543 - val_loss: 0.8726 - val_accuracy: 0.6384\n",
      "Epoch 84/200\n",
      "40/40 [==============================] - 0s 4ms/step - loss: 0.8414 - accuracy: 0.6552 - val_loss: 0.8721 - val_accuracy: 0.6377\n",
      "Epoch 85/200\n",
      "40/40 [==============================] - 0s 4ms/step - loss: 0.8418 - accuracy: 0.6549 - val_loss: 0.8714 - val_accuracy: 0.6411\n",
      "Epoch 86/200\n",
      "40/40 [==============================] - 0s 5ms/step - loss: 0.8415 - accuracy: 0.6568 - val_loss: 0.8730 - val_accuracy: 0.6389\n",
      "Epoch 87/200\n",
      "40/40 [==============================] - 0s 5ms/step - loss: 0.8415 - accuracy: 0.6556 - val_loss: 0.8734 - val_accuracy: 0.6380\n",
      "Epoch 88/200\n",
      "40/40 [==============================] - 0s 4ms/step - loss: 0.8408 - accuracy: 0.6553 - val_loss: 0.8720 - val_accuracy: 0.6411\n",
      "Epoch 89/200\n",
      "40/40 [==============================] - 0s 6ms/step - loss: 0.8410 - accuracy: 0.6543 - val_loss: 0.8723 - val_accuracy: 0.6395\n",
      "Epoch 90/200\n",
      "40/40 [==============================] - 0s 5ms/step - loss: 0.8408 - accuracy: 0.6537 - val_loss: 0.8720 - val_accuracy: 0.6389\n",
      "Epoch 91/200\n",
      "40/40 [==============================] - 0s 6ms/step - loss: 0.8402 - accuracy: 0.6554 - val_loss: 0.8722 - val_accuracy: 0.6404\n",
      "Epoch 92/200\n",
      "40/40 [==============================] - 0s 5ms/step - loss: 0.8402 - accuracy: 0.6555 - val_loss: 0.8727 - val_accuracy: 0.6404\n",
      "Epoch 93/200\n",
      "40/40 [==============================] - 0s 4ms/step - loss: 0.8403 - accuracy: 0.6540 - val_loss: 0.8732 - val_accuracy: 0.6380\n",
      "Epoch 94/200\n",
      "40/40 [==============================] - 0s 5ms/step - loss: 0.8397 - accuracy: 0.6540 - val_loss: 0.8718 - val_accuracy: 0.6401\n",
      "Epoch 95/200\n",
      "40/40 [==============================] - 0s 5ms/step - loss: 0.8398 - accuracy: 0.6560 - val_loss: 0.8732 - val_accuracy: 0.6390\n",
      "Epoch 96/200\n",
      "40/40 [==============================] - 0s 4ms/step - loss: 0.8400 - accuracy: 0.6558 - val_loss: 0.8725 - val_accuracy: 0.6414\n",
      "Epoch 97/200\n",
      "40/40 [==============================] - 0s 5ms/step - loss: 0.8396 - accuracy: 0.6551 - val_loss: 0.8727 - val_accuracy: 0.6377\n",
      "Epoch 98/200\n",
      "40/40 [==============================] - 0s 4ms/step - loss: 0.8396 - accuracy: 0.6543 - val_loss: 0.8730 - val_accuracy: 0.6371\n",
      "Epoch 99/200\n",
      "40/40 [==============================] - 0s 4ms/step - loss: 0.8394 - accuracy: 0.6561 - val_loss: 0.8728 - val_accuracy: 0.6410\n",
      "Epoch 100/200\n",
      "40/40 [==============================] - 0s 5ms/step - loss: 0.8397 - accuracy: 0.6553 - val_loss: 0.8727 - val_accuracy: 0.6386\n",
      "Epoch 101/200\n",
      "40/40 [==============================] - 0s 4ms/step - loss: 0.8395 - accuracy: 0.6554 - val_loss: 0.8763 - val_accuracy: 0.6368\n",
      "Epoch 102/200\n",
      "40/40 [==============================] - 0s 5ms/step - loss: 0.8398 - accuracy: 0.6547 - val_loss: 0.8717 - val_accuracy: 0.6411\n",
      "Epoch 103/200\n",
      "40/40 [==============================] - 0s 4ms/step - loss: 0.8387 - accuracy: 0.6547 - val_loss: 0.8725 - val_accuracy: 0.6426\n",
      "Epoch 104/200\n",
      "40/40 [==============================] - 0s 4ms/step - loss: 0.8390 - accuracy: 0.6559 - val_loss: 0.8714 - val_accuracy: 0.6425\n",
      "Epoch 105/200\n",
      "40/40 [==============================] - 0s 4ms/step - loss: 0.8388 - accuracy: 0.6561 - val_loss: 0.8724 - val_accuracy: 0.6398\n",
      "Epoch 106/200\n",
      "40/40 [==============================] - 0s 5ms/step - loss: 0.8389 - accuracy: 0.6551 - val_loss: 0.8725 - val_accuracy: 0.6392\n",
      "Epoch 107/200\n",
      "40/40 [==============================] - 0s 4ms/step - loss: 0.8381 - accuracy: 0.6555 - val_loss: 0.8719 - val_accuracy: 0.6393\n",
      "Epoch 108/200\n",
      "40/40 [==============================] - 0s 5ms/step - loss: 0.8383 - accuracy: 0.6548 - val_loss: 0.8720 - val_accuracy: 0.6420\n",
      "Epoch 109/200\n",
      "40/40 [==============================] - 0s 4ms/step - loss: 0.8385 - accuracy: 0.6548 - val_loss: 0.8730 - val_accuracy: 0.6399\n",
      "Epoch 110/200\n",
      "40/40 [==============================] - 0s 5ms/step - loss: 0.8382 - accuracy: 0.6556 - val_loss: 0.8723 - val_accuracy: 0.6393\n",
      "Epoch 111/200\n",
      "40/40 [==============================] - 0s 4ms/step - loss: 0.8380 - accuracy: 0.6564 - val_loss: 0.8730 - val_accuracy: 0.6411\n",
      "Epoch 112/200\n",
      "40/40 [==============================] - 0s 5ms/step - loss: 0.8383 - accuracy: 0.6546 - val_loss: 0.8728 - val_accuracy: 0.6410\n",
      "Epoch 113/200\n",
      "40/40 [==============================] - 0s 5ms/step - loss: 0.8384 - accuracy: 0.6558 - val_loss: 0.8721 - val_accuracy: 0.6437\n",
      "Epoch 114/200\n",
      "40/40 [==============================] - 0s 4ms/step - loss: 0.8378 - accuracy: 0.6549 - val_loss: 0.8731 - val_accuracy: 0.6393\n",
      "Epoch 115/200\n",
      "40/40 [==============================] - 0s 4ms/step - loss: 0.8383 - accuracy: 0.6552 - val_loss: 0.8722 - val_accuracy: 0.6399\n",
      "Epoch 116/200\n"
     ]
    },
    {
     "name": "stdout",
     "output_type": "stream",
     "text": [
      "40/40 [==============================] - 0s 4ms/step - loss: 0.8379 - accuracy: 0.6560 - val_loss: 0.8720 - val_accuracy: 0.6420\n",
      "Epoch 117/200\n",
      "40/40 [==============================] - 0s 4ms/step - loss: 0.8378 - accuracy: 0.6549 - val_loss: 0.8720 - val_accuracy: 0.6405\n",
      "Epoch 118/200\n",
      "40/40 [==============================] - 0s 4ms/step - loss: 0.8379 - accuracy: 0.6561 - val_loss: 0.8718 - val_accuracy: 0.6402\n",
      "Epoch 119/200\n",
      "40/40 [==============================] - 0s 5ms/step - loss: 0.8376 - accuracy: 0.6547 - val_loss: 0.8724 - val_accuracy: 0.6401\n",
      "Epoch 120/200\n",
      "40/40 [==============================] - 0s 5ms/step - loss: 0.8377 - accuracy: 0.6556 - val_loss: 0.8725 - val_accuracy: 0.6410\n",
      "Epoch 121/200\n",
      "40/40 [==============================] - 0s 5ms/step - loss: 0.8376 - accuracy: 0.6554 - val_loss: 0.8728 - val_accuracy: 0.6402\n",
      "Epoch 122/200\n",
      "40/40 [==============================] - 0s 5ms/step - loss: 0.8373 - accuracy: 0.6560 - val_loss: 0.8724 - val_accuracy: 0.6414\n",
      "Epoch 123/200\n",
      "40/40 [==============================] - 0s 5ms/step - loss: 0.8372 - accuracy: 0.6556 - val_loss: 0.8721 - val_accuracy: 0.6414\n",
      "Epoch 124/200\n",
      "40/40 [==============================] - 0s 5ms/step - loss: 0.8374 - accuracy: 0.6551 - val_loss: 0.8720 - val_accuracy: 0.6422\n",
      "Epoch 125/200\n",
      "40/40 [==============================] - 0s 5ms/step - loss: 0.8369 - accuracy: 0.6543 - val_loss: 0.8723 - val_accuracy: 0.6411\n",
      "Epoch 126/200\n",
      "40/40 [==============================] - 0s 4ms/step - loss: 0.8374 - accuracy: 0.6555 - val_loss: 0.8736 - val_accuracy: 0.6404\n",
      "Epoch 127/200\n",
      "40/40 [==============================] - 0s 4ms/step - loss: 0.8371 - accuracy: 0.6561 - val_loss: 0.8721 - val_accuracy: 0.6417\n",
      "Epoch 128/200\n",
      "40/40 [==============================] - 0s 4ms/step - loss: 0.8370 - accuracy: 0.6560 - val_loss: 0.8731 - val_accuracy: 0.6405\n",
      "Epoch 129/200\n",
      "40/40 [==============================] - 0s 4ms/step - loss: 0.8369 - accuracy: 0.6549 - val_loss: 0.8729 - val_accuracy: 0.6404\n",
      "Epoch 130/200\n",
      "40/40 [==============================] - 0s 4ms/step - loss: 0.8369 - accuracy: 0.6567 - val_loss: 0.8736 - val_accuracy: 0.6408\n",
      "Epoch 131/200\n",
      "40/40 [==============================] - 0s 4ms/step - loss: 0.8369 - accuracy: 0.6551 - val_loss: 0.8718 - val_accuracy: 0.6419\n",
      "Epoch 132/200\n",
      "40/40 [==============================] - 0s 4ms/step - loss: 0.8368 - accuracy: 0.6543 - val_loss: 0.8722 - val_accuracy: 0.6429\n",
      "Epoch 133/200\n",
      "40/40 [==============================] - 0s 4ms/step - loss: 0.8369 - accuracy: 0.6558 - val_loss: 0.8732 - val_accuracy: 0.6395\n",
      "Epoch 134/200\n",
      "40/40 [==============================] - 0s 4ms/step - loss: 0.8365 - accuracy: 0.6558 - val_loss: 0.8717 - val_accuracy: 0.6404\n",
      "Epoch 135/200\n",
      "40/40 [==============================] - 0s 4ms/step - loss: 0.8364 - accuracy: 0.6547 - val_loss: 0.8737 - val_accuracy: 0.6399\n",
      "Epoch 136/200\n",
      "40/40 [==============================] - 0s 4ms/step - loss: 0.8368 - accuracy: 0.6549 - val_loss: 0.8724 - val_accuracy: 0.6411\n",
      "Epoch 137/200\n",
      "40/40 [==============================] - 0s 5ms/step - loss: 0.8369 - accuracy: 0.6554 - val_loss: 0.8721 - val_accuracy: 0.6431\n",
      "Epoch 138/200\n",
      "40/40 [==============================] - 0s 4ms/step - loss: 0.8364 - accuracy: 0.6571 - val_loss: 0.8735 - val_accuracy: 0.6392\n",
      "Epoch 139/200\n",
      "40/40 [==============================] - 0s 4ms/step - loss: 0.8362 - accuracy: 0.6557 - val_loss: 0.8742 - val_accuracy: 0.6387\n",
      "Epoch 140/200\n",
      "40/40 [==============================] - 0s 4ms/step - loss: 0.8361 - accuracy: 0.6547 - val_loss: 0.8726 - val_accuracy: 0.6401\n",
      "Epoch 141/200\n",
      "40/40 [==============================] - 0s 5ms/step - loss: 0.8359 - accuracy: 0.6554 - val_loss: 0.8743 - val_accuracy: 0.6407\n",
      "Epoch 142/200\n",
      "40/40 [==============================] - 0s 4ms/step - loss: 0.8362 - accuracy: 0.6570 - val_loss: 0.8723 - val_accuracy: 0.6432\n",
      "Epoch 143/200\n",
      "40/40 [==============================] - 0s 4ms/step - loss: 0.8362 - accuracy: 0.6552 - val_loss: 0.8725 - val_accuracy: 0.6414\n",
      "Epoch 144/200\n",
      "40/40 [==============================] - 0s 4ms/step - loss: 0.8359 - accuracy: 0.6555 - val_loss: 0.8731 - val_accuracy: 0.6422\n",
      "Epoch 145/200\n",
      "40/40 [==============================] - 0s 4ms/step - loss: 0.8355 - accuracy: 0.6559 - val_loss: 0.8729 - val_accuracy: 0.6419\n",
      "Epoch 146/200\n",
      "40/40 [==============================] - 0s 5ms/step - loss: 0.8359 - accuracy: 0.6561 - val_loss: 0.8725 - val_accuracy: 0.6429\n",
      "Epoch 147/200\n",
      "40/40 [==============================] - 0s 5ms/step - loss: 0.8357 - accuracy: 0.6553 - val_loss: 0.8730 - val_accuracy: 0.6398\n",
      "Epoch 148/200\n",
      "40/40 [==============================] - 0s 5ms/step - loss: 0.8361 - accuracy: 0.6551 - val_loss: 0.8739 - val_accuracy: 0.6398\n",
      "Epoch 149/200\n",
      "40/40 [==============================] - 0s 5ms/step - loss: 0.8356 - accuracy: 0.6555 - val_loss: 0.8726 - val_accuracy: 0.6422\n",
      "Epoch 150/200\n",
      "40/40 [==============================] - 0s 5ms/step - loss: 0.8358 - accuracy: 0.6556 - val_loss: 0.8733 - val_accuracy: 0.6405\n",
      "Epoch 151/200\n",
      "40/40 [==============================] - 0s 4ms/step - loss: 0.8356 - accuracy: 0.6554 - val_loss: 0.8737 - val_accuracy: 0.6428\n",
      "Epoch 152/200\n",
      "40/40 [==============================] - 0s 5ms/step - loss: 0.8354 - accuracy: 0.6563 - val_loss: 0.8759 - val_accuracy: 0.6369\n",
      "Epoch 153/200\n",
      "40/40 [==============================] - 0s 4ms/step - loss: 0.8354 - accuracy: 0.6549 - val_loss: 0.8745 - val_accuracy: 0.6399\n",
      "Epoch 154/200\n",
      "40/40 [==============================] - 0s 4ms/step - loss: 0.8352 - accuracy: 0.6567 - val_loss: 0.8737 - val_accuracy: 0.6414\n",
      "Epoch 155/200\n",
      "40/40 [==============================] - 0s 5ms/step - loss: 0.8352 - accuracy: 0.6566 - val_loss: 0.8745 - val_accuracy: 0.6387\n",
      "Epoch 156/200\n",
      "40/40 [==============================] - 0s 4ms/step - loss: 0.8357 - accuracy: 0.6541 - val_loss: 0.8733 - val_accuracy: 0.6423\n",
      "Epoch 157/200\n",
      "40/40 [==============================] - 0s 4ms/step - loss: 0.8350 - accuracy: 0.6553 - val_loss: 0.8736 - val_accuracy: 0.6434\n",
      "Epoch 158/200\n",
      "40/40 [==============================] - 0s 5ms/step - loss: 0.8352 - accuracy: 0.6561 - val_loss: 0.8734 - val_accuracy: 0.6417\n",
      "Epoch 159/200\n",
      "40/40 [==============================] - 0s 4ms/step - loss: 0.8351 - accuracy: 0.6562 - val_loss: 0.8732 - val_accuracy: 0.6425\n",
      "Epoch 160/200\n",
      "40/40 [==============================] - 0s 4ms/step - loss: 0.8353 - accuracy: 0.6560 - val_loss: 0.8737 - val_accuracy: 0.6407\n",
      "Epoch 161/200\n",
      "40/40 [==============================] - 0s 5ms/step - loss: 0.8348 - accuracy: 0.6561 - val_loss: 0.8742 - val_accuracy: 0.6404\n",
      "Epoch 162/200\n",
      "40/40 [==============================] - 0s 4ms/step - loss: 0.8354 - accuracy: 0.6558 - val_loss: 0.8735 - val_accuracy: 0.6407\n",
      "Epoch 163/200\n",
      "40/40 [==============================] - 0s 4ms/step - loss: 0.8348 - accuracy: 0.6560 - val_loss: 0.8733 - val_accuracy: 0.6422\n",
      "Epoch 164/200\n",
      "40/40 [==============================] - 0s 6ms/step - loss: 0.8351 - accuracy: 0.6562 - val_loss: 0.8743 - val_accuracy: 0.6414\n",
      "Epoch 165/200\n",
      "40/40 [==============================] - 0s 5ms/step - loss: 0.8347 - accuracy: 0.6564 - val_loss: 0.8742 - val_accuracy: 0.6405\n",
      "Epoch 166/200\n",
      "40/40 [==============================] - 0s 5ms/step - loss: 0.8347 - accuracy: 0.6550 - val_loss: 0.8736 - val_accuracy: 0.6414\n",
      "Epoch 167/200\n",
      "40/40 [==============================] - 0s 5ms/step - loss: 0.8345 - accuracy: 0.6569 - val_loss: 0.8732 - val_accuracy: 0.6414\n",
      "Epoch 168/200\n",
      "40/40 [==============================] - 0s 5ms/step - loss: 0.8349 - accuracy: 0.6553 - val_loss: 0.8743 - val_accuracy: 0.6405\n",
      "Epoch 169/200\n",
      "40/40 [==============================] - 0s 6ms/step - loss: 0.8348 - accuracy: 0.6560 - val_loss: 0.8737 - val_accuracy: 0.6407\n",
      "Epoch 170/200\n",
      "40/40 [==============================] - 0s 5ms/step - loss: 0.8343 - accuracy: 0.6555 - val_loss: 0.8741 - val_accuracy: 0.6422\n",
      "Epoch 171/200\n",
      "40/40 [==============================] - 0s 5ms/step - loss: 0.8345 - accuracy: 0.6556 - val_loss: 0.8743 - val_accuracy: 0.6407\n",
      "Epoch 172/200\n",
      "40/40 [==============================] - 0s 5ms/step - loss: 0.8346 - accuracy: 0.6559 - val_loss: 0.8742 - val_accuracy: 0.6392\n",
      "Epoch 173/200\n"
     ]
    },
    {
     "name": "stdout",
     "output_type": "stream",
     "text": [
      "40/40 [==============================] - 0s 5ms/step - loss: 0.8341 - accuracy: 0.6562 - val_loss: 0.8744 - val_accuracy: 0.6423\n",
      "Epoch 174/200\n",
      "40/40 [==============================] - 0s 5ms/step - loss: 0.8341 - accuracy: 0.6560 - val_loss: 0.8745 - val_accuracy: 0.6405\n",
      "Epoch 175/200\n",
      "40/40 [==============================] - 0s 5ms/step - loss: 0.8346 - accuracy: 0.6567 - val_loss: 0.8747 - val_accuracy: 0.6401\n",
      "Epoch 176/200\n",
      "40/40 [==============================] - 0s 5ms/step - loss: 0.8344 - accuracy: 0.6562 - val_loss: 0.8747 - val_accuracy: 0.6416\n",
      "Epoch 177/200\n",
      "40/40 [==============================] - 0s 5ms/step - loss: 0.8345 - accuracy: 0.6564 - val_loss: 0.8742 - val_accuracy: 0.6401\n",
      "Epoch 178/200\n",
      "40/40 [==============================] - 0s 5ms/step - loss: 0.8349 - accuracy: 0.6559 - val_loss: 0.8746 - val_accuracy: 0.6410\n",
      "Epoch 179/200\n",
      "40/40 [==============================] - 0s 5ms/step - loss: 0.8344 - accuracy: 0.6562 - val_loss: 0.8742 - val_accuracy: 0.6411\n",
      "Epoch 180/200\n",
      "40/40 [==============================] - 0s 5ms/step - loss: 0.8344 - accuracy: 0.6567 - val_loss: 0.8747 - val_accuracy: 0.6407\n",
      "Epoch 181/200\n",
      "40/40 [==============================] - 0s 5ms/step - loss: 0.8342 - accuracy: 0.6561 - val_loss: 0.8746 - val_accuracy: 0.6425\n",
      "Epoch 182/200\n",
      "40/40 [==============================] - 0s 5ms/step - loss: 0.8343 - accuracy: 0.6565 - val_loss: 0.8747 - val_accuracy: 0.6419\n",
      "Epoch 183/200\n",
      "40/40 [==============================] - 0s 5ms/step - loss: 0.8346 - accuracy: 0.6552 - val_loss: 0.8748 - val_accuracy: 0.6407\n",
      "Epoch 184/200\n",
      "40/40 [==============================] - 0s 5ms/step - loss: 0.8341 - accuracy: 0.6565 - val_loss: 0.8755 - val_accuracy: 0.6384\n",
      "Epoch 185/200\n",
      "40/40 [==============================] - 0s 5ms/step - loss: 0.8339 - accuracy: 0.6562 - val_loss: 0.8746 - val_accuracy: 0.6408\n",
      "Epoch 186/200\n",
      "40/40 [==============================] - 0s 5ms/step - loss: 0.8341 - accuracy: 0.6569 - val_loss: 0.8746 - val_accuracy: 0.6410\n",
      "Epoch 187/200\n",
      "40/40 [==============================] - 0s 5ms/step - loss: 0.8336 - accuracy: 0.6560 - val_loss: 0.8742 - val_accuracy: 0.6405\n",
      "Epoch 188/200\n",
      "40/40 [==============================] - 0s 8ms/step - loss: 0.8339 - accuracy: 0.6572 - val_loss: 0.8744 - val_accuracy: 0.6401\n",
      "Epoch 189/200\n",
      "40/40 [==============================] - 0s 7ms/step - loss: 0.8337 - accuracy: 0.6560 - val_loss: 0.8739 - val_accuracy: 0.6407\n",
      "Epoch 190/200\n",
      "40/40 [==============================] - 0s 5ms/step - loss: 0.8336 - accuracy: 0.6563 - val_loss: 0.8747 - val_accuracy: 0.6407\n",
      "Epoch 191/200\n",
      "40/40 [==============================] - 0s 5ms/step - loss: 0.8340 - accuracy: 0.6559 - val_loss: 0.8763 - val_accuracy: 0.6375\n",
      "Epoch 192/200\n",
      "40/40 [==============================] - 0s 6ms/step - loss: 0.8335 - accuracy: 0.6573 - val_loss: 0.8737 - val_accuracy: 0.6426\n",
      "Epoch 193/200\n",
      "40/40 [==============================] - 0s 7ms/step - loss: 0.8338 - accuracy: 0.6562 - val_loss: 0.8743 - val_accuracy: 0.6417\n",
      "Epoch 194/200\n",
      "40/40 [==============================] - 0s 5ms/step - loss: 0.8336 - accuracy: 0.6559 - val_loss: 0.8751 - val_accuracy: 0.6398\n",
      "Epoch 195/200\n",
      "40/40 [==============================] - 0s 5ms/step - loss: 0.8337 - accuracy: 0.6559 - val_loss: 0.8762 - val_accuracy: 0.6375\n",
      "Epoch 196/200\n",
      "40/40 [==============================] - 0s 5ms/step - loss: 0.8343 - accuracy: 0.6565 - val_loss: 0.8749 - val_accuracy: 0.6401\n",
      "Epoch 197/200\n",
      "40/40 [==============================] - 0s 5ms/step - loss: 0.8330 - accuracy: 0.6564 - val_loss: 0.8749 - val_accuracy: 0.6386\n",
      "Epoch 198/200\n",
      "40/40 [==============================] - 0s 5ms/step - loss: 0.8336 - accuracy: 0.6563 - val_loss: 0.8741 - val_accuracy: 0.6419\n",
      "Epoch 199/200\n",
      "40/40 [==============================] - 0s 5ms/step - loss: 0.8335 - accuracy: 0.6568 - val_loss: 0.8752 - val_accuracy: 0.6411\n",
      "Epoch 200/200\n",
      "40/40 [==============================] - 0s 5ms/step - loss: 0.8335 - accuracy: 0.6569 - val_loss: 0.8763 - val_accuracy: 0.6372\n"
     ]
    }
   ],
   "source": [
    "history = model.fit(X_train_sc, y_train,\n",
    "                    validation_data=(X_test_sc, y_test),\n",
    "                    epochs=200,\n",
    "                    batch_size=512)"
   ]
  },
  {
   "cell_type": "code",
   "execution_count": 34,
   "id": "9577c360",
   "metadata": {
    "ExecuteTime": {
     "end_time": "2022-07-06T22:54:02.667028Z",
     "start_time": "2022-07-06T22:54:01.962287Z"
    }
   },
   "outputs": [
    {
     "data": {
      "image/png": "[encoded data removed]",
      "text/plain": [
       "<Figure size 864x576 with 1 Axes>"
      ]
     },
     "metadata": {
      "needs_background": "light"
     },
     "output_type": "display_data"
    }
   ],
   "source": [
    "# Visualize the loss\n",
    "train_loss = history.history['loss'] \n",
    "test_loss = history.history['val_loss']\n",
    "\n",
    "plt.figure(figsize=(12, 8))\n",
    "plt.plot(train_loss, label='Training loss', color='navy')\n",
    "plt.plot(test_loss, label='Testing loss', color='skyblue')\n",
    "plt.legend();"
   ]
  },
  {
   "cell_type": "markdown",
   "id": "483c8808",
   "metadata": {},
   "source": [
    "Model began overfitting quickly after about 10 epochs"
   ]
  },
  {
   "cell_type": "code",
   "execution_count": null,
   "id": "00e38938",
   "metadata": {},
   "outputs": [],
   "source": []
  }
 ],
 "metadata": {
  "kernelspec": {
   "display_name": "Python 3 (ipykernel)",
   "language": "python",
   "name": "python3"
  },
  "language_info": {
   "codemirror_mode": {
    "name": "ipython",
    "version": 3
   },
   "file_extension": ".py",
   "mimetype": "text/x-python",
   "name": "python",
   "nbconvert_exporter": "python",
   "pygments_lexer": "ipython3",
   "version": "3.9.12"
  },
  "toc": {
   "base_numbering": 1,
   "nav_menu": {},
   "number_sections": true,
   "sideBar": true,
   "skip_h1_title": false,
   "title_cell": "Table of Contents",
   "title_sidebar": "Contents",
   "toc_cell": false,
   "toc_position": {},
   "toc_section_display": true,
   "toc_window_display": false
  }
 },
 "nbformat": 4,
 "nbformat_minor": 5
}
