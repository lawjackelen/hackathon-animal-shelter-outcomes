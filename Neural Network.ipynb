{
 "cells": [
  {
   "cell_type": "code",
   "execution_count": 1,
   "id": "40ea90ce",
   "metadata": {
    "ExecuteTime": {
     "end_time": "2022-07-06T20:57:33.357202Z",
     "start_time": "2022-07-06T20:57:19.867230Z"
    }
   },
   "outputs": [],
   "source": [
    "import pandas as pd\n",
    "import numpy as np\n",
    "np.random.seed(2121)\n",
    "\n",
    "import matplotlib.pyplot as plt\n",
    "\n",
    "from sklearn.model_selection import train_test_split\n",
    "\n",
    "from tensorflow.keras import utils\n",
    "from keras.layers import Dense, Conv2D, MaxPool2D, Dropout, Flatten\n",
    "from keras.models import Sequential"
   ]
  },
  {
   "cell_type": "code",
   "execution_count": 2,
   "id": "a1439e6e",
   "metadata": {
    "ExecuteTime": {
     "end_time": "2022-07-06T20:57:56.215439Z",
     "start_time": "2022-07-06T20:57:56.036404Z"
    }
   },
   "outputs": [],
   "source": [
    "train = pd.read_csv('train_eda.csv')"
   ]
  },
  {
   "cell_type": "code",
   "execution_count": 5,
   "id": "0ba801b1",
   "metadata": {
    "ExecuteTime": {
     "end_time": "2022-07-06T21:06:09.747850Z",
     "start_time": "2022-07-06T21:06:09.727803Z"
    }
   },
   "outputs": [],
   "source": [
    "train.drop('ageuponoutcome', axis=1, inplace=True)"
   ]
  },
  {
   "cell_type": "code",
   "execution_count": 11,
   "id": "bc3a6ad1",
   "metadata": {
    "ExecuteTime": {
     "end_time": "2022-07-06T21:08:19.926091Z",
     "start_time": "2022-07-06T21:08:19.904100Z"
    }
   },
   "outputs": [],
   "source": [
    "month_dict={'Jan':1,\n",
    "           'Feb':2,\n",
    "            'March':3,\n",
    "            'April':4,\n",
    "           'May':5,\n",
    "            'June':6,\n",
    "           'July':7,\n",
    "            'Aug':8,\n",
    "           'Sept':9,\n",
    "           'Oct':10,\n",
    "           'Nov':11,\n",
    "           'Dec':12}\n",
    "\n",
    "train.month = train['month'].map(month_dict)"
   ]
  },
  {
   "cell_type": "code",
   "execution_count": 12,
   "id": "5fa9fd4d",
   "metadata": {
    "ExecuteTime": {
     "end_time": "2022-07-06T21:08:28.282977Z",
     "start_time": "2022-07-06T21:08:28.267962Z"
    }
   },
   "outputs": [],
   "source": [
    "train.month = train.month/12"
   ]
  },
  {
   "cell_type": "code",
   "execution_count": 14,
   "id": "039997d3",
   "metadata": {
    "ExecuteTime": {
     "end_time": "2022-07-06T21:09:14.534784Z",
     "start_time": "2022-07-06T21:09:14.515839Z"
    }
   },
   "outputs": [],
   "source": [
    "target = 'outcometype'\n",
    "\n",
    "y = train[target]\n",
    "X = train[[col for col in train.columns if col != target]]"
   ]
  },
  {
   "cell_type": "code",
   "execution_count": 15,
   "id": "2bb5230f",
   "metadata": {
    "ExecuteTime": {
     "end_time": "2022-07-06T21:09:55.004149Z",
     "start_time": "2022-07-06T21:09:54.969091Z"
    }
   },
   "outputs": [],
   "source": [
    "X_train, X_test, y_train, y_test =\\\n",
    "    train_test_split(X,y,\n",
    "                    shuffle = True,\n",
    "                    random_state=1212,\n",
    "                    test_size = .2)"
   ]
  },
  {
   "cell_type": "code",
   "execution_count": 16,
   "id": "23e071ed",
   "metadata": {
    "ExecuteTime": {
     "end_time": "2022-07-06T21:09:59.790147Z",
     "start_time": "2022-07-06T21:09:59.774146Z"
    }
   },
   "outputs": [],
   "source": [
    "y_train = pd.get_dummies(y_train)\n",
    "y_test = pd.get_dummies(y_test)"
   ]
  },
  {
   "cell_type": "code",
   "execution_count": 19,
   "id": "84bd88f2",
   "metadata": {
    "ExecuteTime": {
     "end_time": "2022-07-06T21:10:22.131328Z",
     "start_time": "2022-07-06T21:10:22.115306Z"
    }
   },
   "outputs": [],
   "source": [
    "X_train = X_train.to_numpy()\n",
    "X_test = X_test.to_numpy()\n",
    "\n",
    "y_train = y_train.to_numpy()\n",
    "y_test = y_test.to_numpy()"
   ]
  },
  {
   "cell_type": "code",
   "execution_count": 22,
   "id": "9ff9a6e3",
   "metadata": {
    "ExecuteTime": {
     "end_time": "2022-07-06T21:10:41.071975Z",
     "start_time": "2022-07-06T21:10:41.054023Z"
    }
   },
   "outputs": [
    {
     "data": {
      "text/plain": [
       "(21382, 25)"
      ]
     },
     "execution_count": 22,
     "metadata": {},
     "output_type": "execute_result"
    }
   ],
   "source": [
    "X_train.shape"
   ]
  },
  {
   "cell_type": "code",
   "execution_count": 27,
   "id": "eaecc6fd",
   "metadata": {
    "ExecuteTime": {
     "end_time": "2022-07-06T21:13:01.734831Z",
     "start_time": "2022-07-06T21:13:01.675830Z"
    }
   },
   "outputs": [],
   "source": [
    "m1 = Sequential()\n",
    "\n",
    "m1.add(Dense(16,\n",
    "             activation='relu',\n",
    "             input_shape=(25,)))\n",
    "\n",
    "m1.add(Dense(8,\n",
    "             activation='relu'))\n",
    "\n",
    "m1.add(Dense(5,\n",
    "             activation='softmax'))"
   ]
  },
  {
   "cell_type": "code",
   "execution_count": 28,
   "id": "e6d71fb0",
   "metadata": {
    "ExecuteTime": {
     "end_time": "2022-07-06T21:13:02.250077Z",
     "start_time": "2022-07-06T21:13:02.077069Z"
    }
   },
   "outputs": [
    {
     "data": {
      "image/png": "[encoded data removed]",
      "text/plain": [
       "<IPython.core.display.Image object>"
      ]
     },
     "execution_count": 28,
     "metadata": {},
     "output_type": "execute_result"
    }
   ],
   "source": [
    "utils.plot_model(m1, show_shapes=True)"
   ]
  },
  {
   "cell_type": "code",
   "execution_count": 30,
   "id": "a9ef9566",
   "metadata": {
    "ExecuteTime": {
     "end_time": "2022-07-06T21:14:17.040753Z",
     "start_time": "2022-07-06T21:14:17.013832Z"
    }
   },
   "outputs": [],
   "source": [
    "m1.compile(loss='categorical_crossentropy',\n",
    "           optimizer='adam',\n",
    "           metrics=['accuracy'])"
   ]
  },
  {
   "cell_type": "code",
   "execution_count": 33,
   "id": "e7a8b83d",
   "metadata": {
    "ExecuteTime": {
     "end_time": "2022-07-06T21:18:24.137477Z",
     "start_time": "2022-07-06T21:15:53.005869Z"
    }
   },
   "outputs": [
    {
     "name": "stdout",
     "output_type": "stream",
     "text": [
      "Epoch 1/100\n",
      "669/669 [==============================] - 2s 2ms/step - loss: 0.8673 - accuracy: 0.6361 - val_loss: 0.8901 - val_accuracy: 0.6195\n",
      "Epoch 2/100\n",
      "669/669 [==============================] - 1s 2ms/step - loss: 0.8657 - accuracy: 0.6360 - val_loss: 0.8784 - val_accuracy: 0.6266\n",
      "Epoch 3/100\n",
      "669/669 [==============================] - 1s 2ms/step - loss: 0.8648 - accuracy: 0.6367 - val_loss: 0.8776 - val_accuracy: 0.6354\n",
      "Epoch 4/100\n",
      "669/669 [==============================] - 1s 2ms/step - loss: 0.8644 - accuracy: 0.6355 - val_loss: 0.8774 - val_accuracy: 0.6296\n",
      "Epoch 5/100\n",
      "669/669 [==============================] - 1s 2ms/step - loss: 0.8627 - accuracy: 0.6355 - val_loss: 0.8752 - val_accuracy: 0.6321\n",
      "Epoch 6/100\n",
      "669/669 [==============================] - 2s 2ms/step - loss: 0.8628 - accuracy: 0.6359 - val_loss: 0.8783 - val_accuracy: 0.6336\n",
      "Epoch 7/100\n",
      "669/669 [==============================] - 1s 2ms/step - loss: 0.8618 - accuracy: 0.6372 - val_loss: 0.8761 - val_accuracy: 0.6343\n",
      "Epoch 8/100\n",
      "669/669 [==============================] - 1s 2ms/step - loss: 0.8611 - accuracy: 0.6344 - val_loss: 0.8760 - val_accuracy: 0.6332\n",
      "Epoch 9/100\n",
      "669/669 [==============================] - 1s 2ms/step - loss: 0.8604 - accuracy: 0.6382 - val_loss: 0.8770 - val_accuracy: 0.6285\n",
      "Epoch 10/100\n",
      "669/669 [==============================] - 1s 2ms/step - loss: 0.8594 - accuracy: 0.6370 - val_loss: 0.8763 - val_accuracy: 0.6321\n",
      "Epoch 11/100\n",
      "669/669 [==============================] - 2s 2ms/step - loss: 0.8597 - accuracy: 0.6372 - val_loss: 0.8779 - val_accuracy: 0.6240\n",
      "Epoch 12/100\n",
      "669/669 [==============================] - 1s 2ms/step - loss: 0.8588 - accuracy: 0.6386 - val_loss: 0.8793 - val_accuracy: 0.6308\n",
      "Epoch 13/100\n",
      "669/669 [==============================] - 1s 2ms/step - loss: 0.8586 - accuracy: 0.6370 - val_loss: 0.8755 - val_accuracy: 0.6345\n",
      "Epoch 14/100\n",
      "669/669 [==============================] - 1s 2ms/step - loss: 0.8578 - accuracy: 0.6369 - val_loss: 0.8772 - val_accuracy: 0.6276\n",
      "Epoch 15/100\n",
      "669/669 [==============================] - 1s 2ms/step - loss: 0.8573 - accuracy: 0.6390 - val_loss: 0.8773 - val_accuracy: 0.6337\n",
      "Epoch 16/100\n",
      "669/669 [==============================] - 2s 2ms/step - loss: 0.8569 - accuracy: 0.6360 - val_loss: 0.8773 - val_accuracy: 0.6283\n",
      "Epoch 17/100\n",
      "669/669 [==============================] - 1s 2ms/step - loss: 0.8565 - accuracy: 0.6397 - val_loss: 0.8774 - val_accuracy: 0.6274\n",
      "Epoch 18/100\n",
      "669/669 [==============================] - 1s 2ms/step - loss: 0.8569 - accuracy: 0.6387 - val_loss: 0.8754 - val_accuracy: 0.6354\n",
      "Epoch 19/100\n",
      "669/669 [==============================] - 1s 2ms/step - loss: 0.8564 - accuracy: 0.6390 - val_loss: 0.8778 - val_accuracy: 0.6253\n",
      "Epoch 20/100\n",
      "669/669 [==============================] - 1s 2ms/step - loss: 0.8556 - accuracy: 0.6380 - val_loss: 0.8763 - val_accuracy: 0.6369\n",
      "Epoch 21/100\n",
      "669/669 [==============================] - 1s 2ms/step - loss: 0.8558 - accuracy: 0.6381 - val_loss: 0.8764 - val_accuracy: 0.6279\n",
      "Epoch 22/100\n",
      "669/669 [==============================] - 1s 2ms/step - loss: 0.8554 - accuracy: 0.6406 - val_loss: 0.8751 - val_accuracy: 0.6345\n",
      "Epoch 23/100\n",
      "669/669 [==============================] - 1s 2ms/step - loss: 0.8549 - accuracy: 0.6398 - val_loss: 0.8766 - val_accuracy: 0.6302\n",
      "Epoch 24/100\n",
      "669/669 [==============================] - 2s 2ms/step - loss: 0.8545 - accuracy: 0.6375 - val_loss: 0.8760 - val_accuracy: 0.6349\n",
      "Epoch 25/100\n",
      "669/669 [==============================] - 2s 2ms/step - loss: 0.8545 - accuracy: 0.6392 - val_loss: 0.8744 - val_accuracy: 0.6352\n",
      "Epoch 26/100\n",
      "669/669 [==============================] - 2s 2ms/step - loss: 0.8542 - accuracy: 0.6396 - val_loss: 0.8755 - val_accuracy: 0.6246\n",
      "Epoch 27/100\n",
      "669/669 [==============================] - 2s 2ms/step - loss: 0.8541 - accuracy: 0.6413 - val_loss: 0.8745 - val_accuracy: 0.6379\n",
      "Epoch 28/100\n",
      "669/669 [==============================] - 1s 2ms/step - loss: 0.8535 - accuracy: 0.6402 - val_loss: 0.8792 - val_accuracy: 0.6251\n",
      "Epoch 29/100\n",
      "669/669 [==============================] - 2s 2ms/step - loss: 0.8535 - accuracy: 0.6414 - val_loss: 0.8755 - val_accuracy: 0.6308\n",
      "Epoch 30/100\n",
      "669/669 [==============================] - 2s 2ms/step - loss: 0.8531 - accuracy: 0.6406 - val_loss: 0.8755 - val_accuracy: 0.6304\n",
      "Epoch 31/100\n",
      "669/669 [==============================] - 1s 2ms/step - loss: 0.8536 - accuracy: 0.6402 - val_loss: 0.8759 - val_accuracy: 0.6322\n",
      "Epoch 32/100\n",
      "669/669 [==============================] - 2s 2ms/step - loss: 0.8531 - accuracy: 0.6403 - val_loss: 0.8757 - val_accuracy: 0.6322\n",
      "Epoch 33/100\n",
      "669/669 [==============================] - 1s 2ms/step - loss: 0.8533 - accuracy: 0.6401 - val_loss: 0.8768 - val_accuracy: 0.6294\n",
      "Epoch 34/100\n",
      "669/669 [==============================] - 2s 2ms/step - loss: 0.8527 - accuracy: 0.6408 - val_loss: 0.8775 - val_accuracy: 0.6337\n",
      "Epoch 35/100\n",
      "669/669 [==============================] - 1s 2ms/step - loss: 0.8534 - accuracy: 0.6395 - val_loss: 0.8750 - val_accuracy: 0.6313\n",
      "Epoch 36/100\n",
      "669/669 [==============================] - 1s 2ms/step - loss: 0.8530 - accuracy: 0.6403 - val_loss: 0.8748 - val_accuracy: 0.6367\n",
      "Epoch 37/100\n",
      "669/669 [==============================] - 2s 2ms/step - loss: 0.8522 - accuracy: 0.6385 - val_loss: 0.8749 - val_accuracy: 0.6336\n",
      "Epoch 38/100\n",
      "669/669 [==============================] - 2s 3ms/step - loss: 0.8520 - accuracy: 0.6406 - val_loss: 0.8773 - val_accuracy: 0.6291\n",
      "Epoch 39/100\n",
      "669/669 [==============================] - 2s 2ms/step - loss: 0.8517 - accuracy: 0.6395 - val_loss: 0.8741 - val_accuracy: 0.6384\n",
      "Epoch 40/100\n",
      "669/669 [==============================] - 2s 2ms/step - loss: 0.8517 - accuracy: 0.6408 - val_loss: 0.8761 - val_accuracy: 0.6276\n",
      "Epoch 41/100\n",
      "669/669 [==============================] - 2s 2ms/step - loss: 0.8520 - accuracy: 0.6403 - val_loss: 0.8770 - val_accuracy: 0.6322\n",
      "Epoch 42/100\n",
      "669/669 [==============================] - 2s 2ms/step - loss: 0.8517 - accuracy: 0.6389 - val_loss: 0.8767 - val_accuracy: 0.6334\n",
      "Epoch 43/100\n",
      "669/669 [==============================] - 2s 2ms/step - loss: 0.8517 - accuracy: 0.6403 - val_loss: 0.8765 - val_accuracy: 0.6298\n",
      "Epoch 44/100\n",
      "669/669 [==============================] - 1s 2ms/step - loss: 0.8516 - accuracy: 0.6410 - val_loss: 0.8761 - val_accuracy: 0.6268\n",
      "Epoch 45/100\n",
      "669/669 [==============================] - 1s 2ms/step - loss: 0.8515 - accuracy: 0.6413 - val_loss: 0.8800 - val_accuracy: 0.6246\n",
      "Epoch 46/100\n",
      "669/669 [==============================] - 1s 2ms/step - loss: 0.8517 - accuracy: 0.6382 - val_loss: 0.8760 - val_accuracy: 0.6352\n",
      "Epoch 47/100\n",
      "669/669 [==============================] - 1s 2ms/step - loss: 0.8519 - accuracy: 0.6381 - val_loss: 0.8751 - val_accuracy: 0.6364\n",
      "Epoch 48/100\n",
      "669/669 [==============================] - 1s 2ms/step - loss: 0.8514 - accuracy: 0.6381 - val_loss: 0.8751 - val_accuracy: 0.6354\n",
      "Epoch 49/100\n",
      "669/669 [==============================] - 2s 2ms/step - loss: 0.8509 - accuracy: 0.6405 - val_loss: 0.8760 - val_accuracy: 0.6343\n",
      "Epoch 50/100\n",
      "669/669 [==============================] - 1s 2ms/step - loss: 0.8502 - accuracy: 0.6403 - val_loss: 0.8780 - val_accuracy: 0.6321\n",
      "Epoch 51/100\n",
      "669/669 [==============================] - 2s 2ms/step - loss: 0.8504 - accuracy: 0.6410 - val_loss: 0.8764 - val_accuracy: 0.6317\n",
      "Epoch 52/100\n",
      "669/669 [==============================] - 2s 2ms/step - loss: 0.8506 - accuracy: 0.6401 - val_loss: 0.8759 - val_accuracy: 0.6332\n",
      "Epoch 53/100\n",
      "669/669 [==============================] - 2s 2ms/step - loss: 0.8512 - accuracy: 0.6401 - val_loss: 0.8757 - val_accuracy: 0.6330\n",
      "Epoch 54/100\n",
      "669/669 [==============================] - 1s 2ms/step - loss: 0.8508 - accuracy: 0.6400 - val_loss: 0.8772 - val_accuracy: 0.6339\n",
      "Epoch 55/100\n",
      "669/669 [==============================] - 1s 2ms/step - loss: 0.8510 - accuracy: 0.6392 - val_loss: 0.8767 - val_accuracy: 0.6328\n",
      "Epoch 56/100\n",
      "669/669 [==============================] - 1s 2ms/step - loss: 0.8509 - accuracy: 0.6418 - val_loss: 0.8764 - val_accuracy: 0.6332\n",
      "Epoch 57/100\n",
      "669/669 [==============================] - 1s 2ms/step - loss: 0.8501 - accuracy: 0.6399 - val_loss: 0.8790 - val_accuracy: 0.6236\n"
     ]
    },
    {
     "name": "stdout",
     "output_type": "stream",
     "text": [
      "Epoch 58/100\n",
      "669/669 [==============================] - 1s 2ms/step - loss: 0.8501 - accuracy: 0.6415 - val_loss: 0.8767 - val_accuracy: 0.6339\n",
      "Epoch 59/100\n",
      "669/669 [==============================] - 2s 2ms/step - loss: 0.8502 - accuracy: 0.6397 - val_loss: 0.8762 - val_accuracy: 0.6315\n",
      "Epoch 60/100\n",
      "669/669 [==============================] - 2s 2ms/step - loss: 0.8499 - accuracy: 0.6410 - val_loss: 0.8762 - val_accuracy: 0.6308\n",
      "Epoch 61/100\n",
      "669/669 [==============================] - 1s 2ms/step - loss: 0.8506 - accuracy: 0.6403 - val_loss: 0.8791 - val_accuracy: 0.6270\n",
      "Epoch 62/100\n",
      "669/669 [==============================] - 1s 2ms/step - loss: 0.8500 - accuracy: 0.6403 - val_loss: 0.8797 - val_accuracy: 0.6253\n",
      "Epoch 63/100\n",
      "669/669 [==============================] - 2s 2ms/step - loss: 0.8499 - accuracy: 0.6388 - val_loss: 0.8764 - val_accuracy: 0.6339\n",
      "Epoch 64/100\n",
      "669/669 [==============================] - 1s 2ms/step - loss: 0.8497 - accuracy: 0.6412 - val_loss: 0.8786 - val_accuracy: 0.6294\n",
      "Epoch 65/100\n",
      "669/669 [==============================] - 1s 2ms/step - loss: 0.8500 - accuracy: 0.6406 - val_loss: 0.8817 - val_accuracy: 0.6287\n",
      "Epoch 66/100\n",
      "669/669 [==============================] - 2s 2ms/step - loss: 0.8493 - accuracy: 0.6439 - val_loss: 0.8754 - val_accuracy: 0.6341\n",
      "Epoch 67/100\n",
      "669/669 [==============================] - 2s 2ms/step - loss: 0.8495 - accuracy: 0.6428 - val_loss: 0.8794 - val_accuracy: 0.6279\n",
      "Epoch 68/100\n",
      "669/669 [==============================] - 2s 2ms/step - loss: 0.8495 - accuracy: 0.6392 - val_loss: 0.8793 - val_accuracy: 0.6347\n",
      "Epoch 69/100\n",
      "669/669 [==============================] - 2s 2ms/step - loss: 0.8496 - accuracy: 0.6391 - val_loss: 0.8773 - val_accuracy: 0.6358\n",
      "Epoch 70/100\n",
      "669/669 [==============================] - 2s 2ms/step - loss: 0.8495 - accuracy: 0.6406 - val_loss: 0.8802 - val_accuracy: 0.6324\n",
      "Epoch 71/100\n",
      "669/669 [==============================] - 2s 2ms/step - loss: 0.8494 - accuracy: 0.6404 - val_loss: 0.8779 - val_accuracy: 0.6274\n",
      "Epoch 72/100\n",
      "669/669 [==============================] - 1s 2ms/step - loss: 0.8495 - accuracy: 0.6404 - val_loss: 0.8780 - val_accuracy: 0.6358\n",
      "Epoch 73/100\n",
      "669/669 [==============================] - 1s 2ms/step - loss: 0.8490 - accuracy: 0.6411 - val_loss: 0.8782 - val_accuracy: 0.6304\n",
      "Epoch 74/100\n",
      "669/669 [==============================] - 1s 2ms/step - loss: 0.8486 - accuracy: 0.6400 - val_loss: 0.8807 - val_accuracy: 0.6233\n",
      "Epoch 75/100\n",
      "669/669 [==============================] - 1s 2ms/step - loss: 0.8491 - accuracy: 0.6400 - val_loss: 0.8772 - val_accuracy: 0.6321\n",
      "Epoch 76/100\n",
      "669/669 [==============================] - 2s 2ms/step - loss: 0.8493 - accuracy: 0.6401 - val_loss: 0.8778 - val_accuracy: 0.6313\n",
      "Epoch 77/100\n",
      "669/669 [==============================] - 1s 2ms/step - loss: 0.8492 - accuracy: 0.6389 - val_loss: 0.8782 - val_accuracy: 0.6293\n",
      "Epoch 78/100\n",
      "669/669 [==============================] - 2s 2ms/step - loss: 0.8488 - accuracy: 0.6406 - val_loss: 0.8788 - val_accuracy: 0.6345\n",
      "Epoch 79/100\n",
      "669/669 [==============================] - 1s 2ms/step - loss: 0.8487 - accuracy: 0.6404 - val_loss: 0.8802 - val_accuracy: 0.6349\n",
      "Epoch 80/100\n",
      "669/669 [==============================] - 2s 3ms/step - loss: 0.8496 - accuracy: 0.6388 - val_loss: 0.8778 - val_accuracy: 0.6341\n",
      "Epoch 81/100\n",
      "669/669 [==============================] - 1s 2ms/step - loss: 0.8484 - accuracy: 0.6384 - val_loss: 0.8801 - val_accuracy: 0.6298\n",
      "Epoch 82/100\n",
      "669/669 [==============================] - 1s 2ms/step - loss: 0.8489 - accuracy: 0.6417 - val_loss: 0.8817 - val_accuracy: 0.6317\n",
      "Epoch 83/100\n",
      "669/669 [==============================] - 2s 2ms/step - loss: 0.8485 - accuracy: 0.6432 - val_loss: 0.8766 - val_accuracy: 0.6360\n",
      "Epoch 84/100\n",
      "669/669 [==============================] - 2s 2ms/step - loss: 0.8490 - accuracy: 0.6400 - val_loss: 0.8774 - val_accuracy: 0.6347\n",
      "Epoch 85/100\n",
      "669/669 [==============================] - 1s 2ms/step - loss: 0.8483 - accuracy: 0.6410 - val_loss: 0.8788 - val_accuracy: 0.6263\n",
      "Epoch 86/100\n",
      "669/669 [==============================] - 1s 2ms/step - loss: 0.8484 - accuracy: 0.6389 - val_loss: 0.8834 - val_accuracy: 0.6231\n",
      "Epoch 87/100\n",
      "669/669 [==============================] - 1s 2ms/step - loss: 0.8476 - accuracy: 0.6408 - val_loss: 0.8817 - val_accuracy: 0.6293\n",
      "Epoch 88/100\n",
      "669/669 [==============================] - 1s 2ms/step - loss: 0.8483 - accuracy: 0.6388 - val_loss: 0.8802 - val_accuracy: 0.6306\n",
      "Epoch 89/100\n",
      "669/669 [==============================] - 1s 2ms/step - loss: 0.8483 - accuracy: 0.6396 - val_loss: 0.8792 - val_accuracy: 0.6250\n",
      "Epoch 90/100\n",
      "669/669 [==============================] - 1s 2ms/step - loss: 0.8479 - accuracy: 0.6418 - val_loss: 0.8786 - val_accuracy: 0.6287\n",
      "Epoch 91/100\n",
      "669/669 [==============================] - 1s 2ms/step - loss: 0.8480 - accuracy: 0.6407 - val_loss: 0.8787 - val_accuracy: 0.6332\n",
      "Epoch 92/100\n",
      "669/669 [==============================] - 2s 2ms/step - loss: 0.8478 - accuracy: 0.6420 - val_loss: 0.8774 - val_accuracy: 0.6339\n",
      "Epoch 93/100\n",
      "669/669 [==============================] - 1s 2ms/step - loss: 0.8481 - accuracy: 0.6400 - val_loss: 0.8828 - val_accuracy: 0.6216\n",
      "Epoch 94/100\n",
      "669/669 [==============================] - 1s 2ms/step - loss: 0.8476 - accuracy: 0.6417 - val_loss: 0.8794 - val_accuracy: 0.6291\n",
      "Epoch 95/100\n",
      "669/669 [==============================] - 1s 2ms/step - loss: 0.8479 - accuracy: 0.6415 - val_loss: 0.8790 - val_accuracy: 0.6285\n",
      "Epoch 96/100\n",
      "669/669 [==============================] - 1s 2ms/step - loss: 0.8473 - accuracy: 0.6428 - val_loss: 0.8796 - val_accuracy: 0.6358\n",
      "Epoch 97/100\n",
      "669/669 [==============================] - 1s 2ms/step - loss: 0.8476 - accuracy: 0.6404 - val_loss: 0.8806 - val_accuracy: 0.6266\n",
      "Epoch 98/100\n",
      "669/669 [==============================] - 1s 2ms/step - loss: 0.8477 - accuracy: 0.6412 - val_loss: 0.8793 - val_accuracy: 0.6300\n",
      "Epoch 99/100\n",
      "669/669 [==============================] - 1s 2ms/step - loss: 0.8472 - accuracy: 0.6412 - val_loss: 0.8804 - val_accuracy: 0.6337\n",
      "Epoch 100/100\n",
      "669/669 [==============================] - 1s 2ms/step - loss: 0.8473 - accuracy: 0.6421 - val_loss: 0.8792 - val_accuracy: 0.6362\n"
     ]
    }
   ],
   "source": [
    "h1 = m1.fit(X_train,\n",
    "                y_train, \n",
    "                batch_size=32,\n",
    "                validation_data=(X_test, y_test),\n",
    "                epochs=100,\n",
    "                verbose=1)"
   ]
  },
  {
   "cell_type": "code",
   "execution_count": 36,
   "id": "2246f97e",
   "metadata": {
    "ExecuteTime": {
     "end_time": "2022-07-06T21:22:17.589144Z",
     "start_time": "2022-07-06T21:22:17.302483Z"
    }
   },
   "outputs": [
    {
     "data": {
      "image/png": "[encoded data removed]",
      "text/plain": [
       "<Figure size 864x576 with 1 Axes>"
      ]
     },
     "metadata": {
      "needs_background": "light"
     },
     "output_type": "display_data"
    }
   ],
   "source": [
    "# Check out our train loss and test loss over epochs\n",
    "train_loss = h1.history['loss']\n",
    "test_loss = h1.history['val_loss']\n",
    "\n",
    "# Set figure size\n",
    "plt.figure(figsize=(12, 8))\n",
    "\n",
    "# Generate line plot of training, testing loss over epochs\n",
    "plt.plot(train_loss, label='Training Loss', color='#185fad')\n",
    "plt.plot(test_loss, label='Testing Loss', color='orange')\n",
    "\n",
    "# Set title\n",
    "plt.title('Training and Testing Loss by Epoch', fontsize = 25)\n",
    "plt.xlabel('Epoch', fontsize = 18)\n",
    "plt.ylabel('Categorical Crossentropy', fontsize = 18)\n",
    "plt.xticks(np.arange(10), np.arange(10))\n",
    "\n",
    "plt.legend(fontsize = 18);"
   ]
  },
  {
   "cell_type": "code",
   "execution_count": null,
   "id": "1ad6e378",
   "metadata": {},
   "outputs": [],
   "source": []
  }
 ],
 "metadata": {
  "kernelspec": {
   "display_name": "Python 3 (ipykernel)",
   "language": "python",
   "name": "python3"
  },
  "language_info": {
   "codemirror_mode": {
    "name": "ipython",
    "version": 3
   },
   "file_extension": ".py",
   "mimetype": "text/x-python",
   "name": "python",
   "nbconvert_exporter": "python",
   "pygments_lexer": "ipython3",
   "version": "3.9.12"
  },
  "toc": {
   "base_numbering": 1,
   "nav_menu": {},
   "number_sections": false,
   "sideBar": true,
   "skip_h1_title": false,
   "title_cell": "Table of Contents",
   "title_sidebar": "Contents",
   "toc_cell": false,
   "toc_position": {},
   "toc_section_display": true,
   "toc_window_display": false
  }
 },
 "nbformat": 4,
 "nbformat_minor": 5
}
