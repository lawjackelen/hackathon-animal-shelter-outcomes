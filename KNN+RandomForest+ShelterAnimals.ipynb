{
 "cells": [
  {
   "cell_type": "code",
   "execution_count": 1,
   "id": "01caace8",
   "metadata": {
    "ExecuteTime": {
     "end_time": "2022-07-06T22:44:43.735055Z",
     "start_time": "2022-07-06T22:44:39.648420Z"
    }
   },
   "outputs": [],
   "source": [
    "import pandas as pd\n",
    "import numpy as np\n",
    "import matplotlib.pyplot as plt\n",
    "\n",
    "from sklearn.ensemble import RandomForestClassifier, BaggingClassifier \n",
    "from sklearn.metrics import (accuracy_score, \n",
    "                            confusion_matrix, \n",
    "                            classification_report,\n",
    "                            plot_confusion_matrix) \n",
    "from sklearn.model_selection import train_test_split, cross_val_score, GridSearchCV,KFold\n",
    "from sklearn.metrics import accuracy_score, precision_score, recall_score, f1_score,ConfusionMatrixDisplay\n",
    "from sklearn.model_selection import StratifiedKFold\n",
    "from sklearn.ensemble import BaggingClassifier\n",
    "from sklearn.tree import DecisionTreeClassifier\n",
    "\n",
    "np.random.seed(2121)"
   ]
  },
  {
   "cell_type": "code",
   "execution_count": 2,
   "id": "99d500cc",
   "metadata": {
    "ExecuteTime": {
     "end_time": "2022-07-06T22:44:43.940092Z",
     "start_time": "2022-07-06T22:44:43.743576Z"
    }
   },
   "outputs": [],
   "source": [
    "train=pd.read_csv('train_eda.csv')\n",
    "test=pd.read_csv('test_eda.csv')"
   ]
  },
  {
   "cell_type": "code",
   "execution_count": 3,
   "id": "a57e6fef",
   "metadata": {
    "ExecuteTime": {
     "end_time": "2022-07-06T22:44:43.971645Z",
     "start_time": "2022-07-06T22:44:43.946090Z"
    }
   },
   "outputs": [
    {
     "data": {
      "text/plain": [
       "(26728, 28)"
      ]
     },
     "execution_count": 3,
     "metadata": {},
     "output_type": "execute_result"
    }
   ],
   "source": [
    "train.shape"
   ]
  },
  {
   "cell_type": "code",
   "execution_count": 4,
   "id": "bc20d926",
   "metadata": {
    "ExecuteTime": {
     "end_time": "2022-07-06T22:44:44.034609Z",
     "start_time": "2022-07-06T22:44:43.977611Z"
    }
   },
   "outputs": [
    {
     "data": {
      "text/html": [
       "<div>\n",
       "<style scoped>\n",
       "    .dataframe tbody tr th:only-of-type {\n",
       "        vertical-align: middle;\n",
       "    }\n",
       "\n",
       "    .dataframe tbody tr th {\n",
       "        vertical-align: top;\n",
       "    }\n",
       "\n",
       "    .dataframe thead th {\n",
       "        text-align: right;\n",
       "    }\n",
       "</style>\n",
       "<table border=\"1\" class=\"dataframe\">\n",
       "  <thead>\n",
       "    <tr style=\"text-align: right;\">\n",
       "      <th></th>\n",
       "      <th>outcometype</th>\n",
       "      <th>ageuponoutcome</th>\n",
       "      <th>has_name</th>\n",
       "      <th>is_mix</th>\n",
       "      <th>cat_breed_shorthair</th>\n",
       "      <th>cat_breed_mediumhair</th>\n",
       "      <th>cat_breed_longhair</th>\n",
       "      <th>cat_breed_siamese</th>\n",
       "      <th>dog_breed_chihuahua</th>\n",
       "      <th>dog_breed_pitbull</th>\n",
       "      <th>...</th>\n",
       "      <th>age_old</th>\n",
       "      <th>primary_color_Black</th>\n",
       "      <th>primary_color_Blue</th>\n",
       "      <th>primary_color_Brown</th>\n",
       "      <th>primary_color_Gray</th>\n",
       "      <th>primary_color_Orange</th>\n",
       "      <th>primary_color_Tan</th>\n",
       "      <th>primary_color_Tricolor</th>\n",
       "      <th>primary_color_White</th>\n",
       "      <th>month</th>\n",
       "    </tr>\n",
       "  </thead>\n",
       "  <tbody>\n",
       "    <tr>\n",
       "      <th>0</th>\n",
       "      <td>Return_to_owner</td>\n",
       "      <td>1.00</td>\n",
       "      <td>1</td>\n",
       "      <td>1</td>\n",
       "      <td>0</td>\n",
       "      <td>0</td>\n",
       "      <td>0</td>\n",
       "      <td>0</td>\n",
       "      <td>0</td>\n",
       "      <td>0</td>\n",
       "      <td>...</td>\n",
       "      <td>0</td>\n",
       "      <td>0</td>\n",
       "      <td>0</td>\n",
       "      <td>1</td>\n",
       "      <td>0</td>\n",
       "      <td>0</td>\n",
       "      <td>0</td>\n",
       "      <td>0</td>\n",
       "      <td>0</td>\n",
       "      <td>Feb</td>\n",
       "    </tr>\n",
       "    <tr>\n",
       "      <th>1</th>\n",
       "      <td>Euthanasia</td>\n",
       "      <td>1.00</td>\n",
       "      <td>1</td>\n",
       "      <td>1</td>\n",
       "      <td>1</td>\n",
       "      <td>0</td>\n",
       "      <td>0</td>\n",
       "      <td>0</td>\n",
       "      <td>0</td>\n",
       "      <td>0</td>\n",
       "      <td>...</td>\n",
       "      <td>0</td>\n",
       "      <td>0</td>\n",
       "      <td>0</td>\n",
       "      <td>0</td>\n",
       "      <td>0</td>\n",
       "      <td>0</td>\n",
       "      <td>1</td>\n",
       "      <td>0</td>\n",
       "      <td>0</td>\n",
       "      <td>Oct</td>\n",
       "    </tr>\n",
       "    <tr>\n",
       "      <th>2</th>\n",
       "      <td>Adoption</td>\n",
       "      <td>2.00</td>\n",
       "      <td>1</td>\n",
       "      <td>1</td>\n",
       "      <td>0</td>\n",
       "      <td>0</td>\n",
       "      <td>0</td>\n",
       "      <td>0</td>\n",
       "      <td>0</td>\n",
       "      <td>1</td>\n",
       "      <td>...</td>\n",
       "      <td>0</td>\n",
       "      <td>0</td>\n",
       "      <td>1</td>\n",
       "      <td>0</td>\n",
       "      <td>0</td>\n",
       "      <td>0</td>\n",
       "      <td>0</td>\n",
       "      <td>0</td>\n",
       "      <td>0</td>\n",
       "      <td>Jan</td>\n",
       "    </tr>\n",
       "    <tr>\n",
       "      <th>3</th>\n",
       "      <td>Transfer</td>\n",
       "      <td>0.06</td>\n",
       "      <td>0</td>\n",
       "      <td>1</td>\n",
       "      <td>1</td>\n",
       "      <td>0</td>\n",
       "      <td>0</td>\n",
       "      <td>0</td>\n",
       "      <td>0</td>\n",
       "      <td>0</td>\n",
       "      <td>...</td>\n",
       "      <td>0</td>\n",
       "      <td>0</td>\n",
       "      <td>1</td>\n",
       "      <td>0</td>\n",
       "      <td>0</td>\n",
       "      <td>0</td>\n",
       "      <td>0</td>\n",
       "      <td>0</td>\n",
       "      <td>0</td>\n",
       "      <td>July</td>\n",
       "    </tr>\n",
       "    <tr>\n",
       "      <th>4</th>\n",
       "      <td>Transfer</td>\n",
       "      <td>2.00</td>\n",
       "      <td>0</td>\n",
       "      <td>1</td>\n",
       "      <td>0</td>\n",
       "      <td>0</td>\n",
       "      <td>0</td>\n",
       "      <td>0</td>\n",
       "      <td>0</td>\n",
       "      <td>0</td>\n",
       "      <td>...</td>\n",
       "      <td>0</td>\n",
       "      <td>0</td>\n",
       "      <td>0</td>\n",
       "      <td>0</td>\n",
       "      <td>0</td>\n",
       "      <td>0</td>\n",
       "      <td>1</td>\n",
       "      <td>0</td>\n",
       "      <td>0</td>\n",
       "      <td>Nov</td>\n",
       "    </tr>\n",
       "  </tbody>\n",
       "</table>\n",
       "<p>5 rows × 28 columns</p>\n",
       "</div>"
      ],
      "text/plain": [
       "       outcometype  ageuponoutcome  has_name  is_mix  cat_breed_shorthair  \\\n",
       "0  Return_to_owner            1.00         1       1                    0   \n",
       "1       Euthanasia            1.00         1       1                    1   \n",
       "2         Adoption            2.00         1       1                    0   \n",
       "3         Transfer            0.06         0       1                    1   \n",
       "4         Transfer            2.00         0       1                    0   \n",
       "\n",
       "   cat_breed_mediumhair  cat_breed_longhair  cat_breed_siamese  \\\n",
       "0                     0                   0                  0   \n",
       "1                     0                   0                  0   \n",
       "2                     0                   0                  0   \n",
       "3                     0                   0                  0   \n",
       "4                     0                   0                  0   \n",
       "\n",
       "   dog_breed_chihuahua  dog_breed_pitbull  ...  age_old  primary_color_Black  \\\n",
       "0                    0                  0  ...        0                    0   \n",
       "1                    0                  0  ...        0                    0   \n",
       "2                    0                  1  ...        0                    0   \n",
       "3                    0                  0  ...        0                    0   \n",
       "4                    0                  0  ...        0                    0   \n",
       "\n",
       "   primary_color_Blue  primary_color_Brown  primary_color_Gray  \\\n",
       "0                   0                    1                   0   \n",
       "1                   0                    0                   0   \n",
       "2                   1                    0                   0   \n",
       "3                   1                    0                   0   \n",
       "4                   0                    0                   0   \n",
       "\n",
       "   primary_color_Orange  primary_color_Tan  primary_color_Tricolor  \\\n",
       "0                     0                  0                       0   \n",
       "1                     0                  1                       0   \n",
       "2                     0                  0                       0   \n",
       "3                     0                  0                       0   \n",
       "4                     0                  1                       0   \n",
       "\n",
       "   primary_color_White  month  \n",
       "0                    0    Feb  \n",
       "1                    0    Oct  \n",
       "2                    0    Jan  \n",
       "3                    0   July  \n",
       "4                    0    Nov  \n",
       "\n",
       "[5 rows x 28 columns]"
      ]
     },
     "execution_count": 4,
     "metadata": {},
     "output_type": "execute_result"
    }
   ],
   "source": [
    "train.head()"
   ]
  },
  {
   "cell_type": "code",
   "execution_count": 5,
   "id": "5110f40a",
   "metadata": {
    "ExecuteTime": {
     "end_time": "2022-07-06T22:44:44.065609Z",
     "start_time": "2022-07-06T22:44:44.041611Z"
    }
   },
   "outputs": [
    {
     "data": {
      "text/plain": [
       "Adoption           10769\n",
       "Transfer            9422\n",
       "Return_to_owner     4785\n",
       "Euthanasia          1555\n",
       "Died                 197\n",
       "Name: outcometype, dtype: int64"
      ]
     },
     "execution_count": 5,
     "metadata": {},
     "output_type": "execute_result"
    }
   ],
   "source": [
    "train.outcometype.value_counts(dropna=False)"
   ]
  },
  {
   "cell_type": "code",
   "execution_count": 6,
   "id": "e58d5613",
   "metadata": {
    "ExecuteTime": {
     "end_time": "2022-07-06T22:44:44.111610Z",
     "start_time": "2022-07-06T22:44:44.068609Z"
    }
   },
   "outputs": [],
   "source": [
    "train['outcometype'] = [0 if x == 'Return_to_owner' \n",
    "                   else 1 if x == \"Euthanasia\" \n",
    "                   else 2 if x=='Adoption'\n",
    "                   else 3 if x=='Transfer'\n",
    "                   else 4 for x in train['outcometype'] ]"
   ]
  },
  {
   "cell_type": "code",
   "execution_count": 7,
   "id": "8e5eac33",
   "metadata": {
    "ExecuteTime": {
     "end_time": "2022-07-06T22:44:44.127612Z",
     "start_time": "2022-07-06T22:44:44.114611Z"
    }
   },
   "outputs": [
    {
     "data": {
      "text/plain": [
       "['Return_to_owner', 'Euthanasia', 'Adoption', 'Transfer', 'Died']"
      ]
     },
     "execution_count": 7,
     "metadata": {},
     "output_type": "execute_result"
    }
   ],
   "source": [
    "['Return_to_owner','Euthanasia','Adoption','Transfer','Died']"
   ]
  },
  {
   "cell_type": "code",
   "execution_count": 8,
   "id": "eaae3aaf",
   "metadata": {
    "ExecuteTime": {
     "end_time": "2022-07-06T22:44:44.173641Z",
     "start_time": "2022-07-06T22:44:44.131611Z"
    }
   },
   "outputs": [
    {
     "data": {
      "text/html": [
       "<div>\n",
       "<style scoped>\n",
       "    .dataframe tbody tr th:only-of-type {\n",
       "        vertical-align: middle;\n",
       "    }\n",
       "\n",
       "    .dataframe tbody tr th {\n",
       "        vertical-align: top;\n",
       "    }\n",
       "\n",
       "    .dataframe thead th {\n",
       "        text-align: right;\n",
       "    }\n",
       "</style>\n",
       "<table border=\"1\" class=\"dataframe\">\n",
       "  <thead>\n",
       "    <tr style=\"text-align: right;\">\n",
       "      <th></th>\n",
       "      <th>outcometype</th>\n",
       "      <th>ageuponoutcome</th>\n",
       "      <th>has_name</th>\n",
       "      <th>is_mix</th>\n",
       "      <th>cat_breed_shorthair</th>\n",
       "      <th>cat_breed_mediumhair</th>\n",
       "      <th>cat_breed_longhair</th>\n",
       "      <th>cat_breed_siamese</th>\n",
       "      <th>dog_breed_chihuahua</th>\n",
       "      <th>dog_breed_pitbull</th>\n",
       "      <th>...</th>\n",
       "      <th>age_old</th>\n",
       "      <th>primary_color_Black</th>\n",
       "      <th>primary_color_Blue</th>\n",
       "      <th>primary_color_Brown</th>\n",
       "      <th>primary_color_Gray</th>\n",
       "      <th>primary_color_Orange</th>\n",
       "      <th>primary_color_Tan</th>\n",
       "      <th>primary_color_Tricolor</th>\n",
       "      <th>primary_color_White</th>\n",
       "      <th>month</th>\n",
       "    </tr>\n",
       "  </thead>\n",
       "  <tbody>\n",
       "    <tr>\n",
       "      <th>0</th>\n",
       "      <td>0</td>\n",
       "      <td>1.00</td>\n",
       "      <td>1</td>\n",
       "      <td>1</td>\n",
       "      <td>0</td>\n",
       "      <td>0</td>\n",
       "      <td>0</td>\n",
       "      <td>0</td>\n",
       "      <td>0</td>\n",
       "      <td>0</td>\n",
       "      <td>...</td>\n",
       "      <td>0</td>\n",
       "      <td>0</td>\n",
       "      <td>0</td>\n",
       "      <td>1</td>\n",
       "      <td>0</td>\n",
       "      <td>0</td>\n",
       "      <td>0</td>\n",
       "      <td>0</td>\n",
       "      <td>0</td>\n",
       "      <td>Feb</td>\n",
       "    </tr>\n",
       "    <tr>\n",
       "      <th>1</th>\n",
       "      <td>1</td>\n",
       "      <td>1.00</td>\n",
       "      <td>1</td>\n",
       "      <td>1</td>\n",
       "      <td>1</td>\n",
       "      <td>0</td>\n",
       "      <td>0</td>\n",
       "      <td>0</td>\n",
       "      <td>0</td>\n",
       "      <td>0</td>\n",
       "      <td>...</td>\n",
       "      <td>0</td>\n",
       "      <td>0</td>\n",
       "      <td>0</td>\n",
       "      <td>0</td>\n",
       "      <td>0</td>\n",
       "      <td>0</td>\n",
       "      <td>1</td>\n",
       "      <td>0</td>\n",
       "      <td>0</td>\n",
       "      <td>Oct</td>\n",
       "    </tr>\n",
       "    <tr>\n",
       "      <th>2</th>\n",
       "      <td>2</td>\n",
       "      <td>2.00</td>\n",
       "      <td>1</td>\n",
       "      <td>1</td>\n",
       "      <td>0</td>\n",
       "      <td>0</td>\n",
       "      <td>0</td>\n",
       "      <td>0</td>\n",
       "      <td>0</td>\n",
       "      <td>1</td>\n",
       "      <td>...</td>\n",
       "      <td>0</td>\n",
       "      <td>0</td>\n",
       "      <td>1</td>\n",
       "      <td>0</td>\n",
       "      <td>0</td>\n",
       "      <td>0</td>\n",
       "      <td>0</td>\n",
       "      <td>0</td>\n",
       "      <td>0</td>\n",
       "      <td>Jan</td>\n",
       "    </tr>\n",
       "    <tr>\n",
       "      <th>3</th>\n",
       "      <td>3</td>\n",
       "      <td>0.06</td>\n",
       "      <td>0</td>\n",
       "      <td>1</td>\n",
       "      <td>1</td>\n",
       "      <td>0</td>\n",
       "      <td>0</td>\n",
       "      <td>0</td>\n",
       "      <td>0</td>\n",
       "      <td>0</td>\n",
       "      <td>...</td>\n",
       "      <td>0</td>\n",
       "      <td>0</td>\n",
       "      <td>1</td>\n",
       "      <td>0</td>\n",
       "      <td>0</td>\n",
       "      <td>0</td>\n",
       "      <td>0</td>\n",
       "      <td>0</td>\n",
       "      <td>0</td>\n",
       "      <td>July</td>\n",
       "    </tr>\n",
       "    <tr>\n",
       "      <th>4</th>\n",
       "      <td>3</td>\n",
       "      <td>2.00</td>\n",
       "      <td>0</td>\n",
       "      <td>1</td>\n",
       "      <td>0</td>\n",
       "      <td>0</td>\n",
       "      <td>0</td>\n",
       "      <td>0</td>\n",
       "      <td>0</td>\n",
       "      <td>0</td>\n",
       "      <td>...</td>\n",
       "      <td>0</td>\n",
       "      <td>0</td>\n",
       "      <td>0</td>\n",
       "      <td>0</td>\n",
       "      <td>0</td>\n",
       "      <td>0</td>\n",
       "      <td>1</td>\n",
       "      <td>0</td>\n",
       "      <td>0</td>\n",
       "      <td>Nov</td>\n",
       "    </tr>\n",
       "  </tbody>\n",
       "</table>\n",
       "<p>5 rows × 28 columns</p>\n",
       "</div>"
      ],
      "text/plain": [
       "   outcometype  ageuponoutcome  has_name  is_mix  cat_breed_shorthair  \\\n",
       "0            0            1.00         1       1                    0   \n",
       "1            1            1.00         1       1                    1   \n",
       "2            2            2.00         1       1                    0   \n",
       "3            3            0.06         0       1                    1   \n",
       "4            3            2.00         0       1                    0   \n",
       "\n",
       "   cat_breed_mediumhair  cat_breed_longhair  cat_breed_siamese  \\\n",
       "0                     0                   0                  0   \n",
       "1                     0                   0                  0   \n",
       "2                     0                   0                  0   \n",
       "3                     0                   0                  0   \n",
       "4                     0                   0                  0   \n",
       "\n",
       "   dog_breed_chihuahua  dog_breed_pitbull  ...  age_old  primary_color_Black  \\\n",
       "0                    0                  0  ...        0                    0   \n",
       "1                    0                  0  ...        0                    0   \n",
       "2                    0                  1  ...        0                    0   \n",
       "3                    0                  0  ...        0                    0   \n",
       "4                    0                  0  ...        0                    0   \n",
       "\n",
       "   primary_color_Blue  primary_color_Brown  primary_color_Gray  \\\n",
       "0                   0                    1                   0   \n",
       "1                   0                    0                   0   \n",
       "2                   1                    0                   0   \n",
       "3                   1                    0                   0   \n",
       "4                   0                    0                   0   \n",
       "\n",
       "   primary_color_Orange  primary_color_Tan  primary_color_Tricolor  \\\n",
       "0                     0                  0                       0   \n",
       "1                     0                  1                       0   \n",
       "2                     0                  0                       0   \n",
       "3                     0                  0                       0   \n",
       "4                     0                  1                       0   \n",
       "\n",
       "   primary_color_White  month  \n",
       "0                    0    Feb  \n",
       "1                    0    Oct  \n",
       "2                    0    Jan  \n",
       "3                    0   July  \n",
       "4                    0    Nov  \n",
       "\n",
       "[5 rows x 28 columns]"
      ]
     },
     "execution_count": 8,
     "metadata": {},
     "output_type": "execute_result"
    }
   ],
   "source": [
    "train.head()"
   ]
  },
  {
   "cell_type": "code",
   "execution_count": 9,
   "id": "746db7bc",
   "metadata": {
    "ExecuteTime": {
     "end_time": "2022-07-06T22:44:44.204192Z",
     "start_time": "2022-07-06T22:44:44.180258Z"
    }
   },
   "outputs": [],
   "source": [
    "#To print model scores\n",
    "def score(model, name, X, y):\n",
    "    cv = StratifiedKFold(n_splits=10,\n",
    "                         random_state=42,\n",
    "                         shuffle=True)\n",
    "    s = cross_val_score(model, X, y, cv=cv,\n",
    "                        n_jobs=-1)\n",
    "    print('{} Score: {:.2f} +- {:.3f}'.format(name, \n",
    "                                              s.mean(), \n",
    "                                              2 * s.std()))"
   ]
  },
  {
   "cell_type": "code",
   "execution_count": 10,
   "id": "f4435dee",
   "metadata": {
    "ExecuteTime": {
     "end_time": "2022-07-06T22:44:44.235246Z",
     "start_time": "2022-07-06T22:44:44.208225Z"
    }
   },
   "outputs": [],
   "source": [
    "def rfscore2(df,target_col,test_size,n_estimators,max_depth):\n",
    "    '''Gridsearching RandomForest'''\n",
    "    X = df.drop(target_col, axis=1)   # predictors\n",
    "    y = df[target_col]                # target\n",
    "    \n",
    "    X_train, X_test, y_train, y_test = train_test_split(X, \n",
    "                                                        y, test_size = test_size, random_state=42) # TT split\n",
    "    rf_params = {\n",
    "             'n_estimators':n_estimators,\n",
    "             'max_depth':max_depth}   # parameters for grid search\n",
    "    rf_gs = GridSearchCV(RandomForestClassifier(), rf_params, cv=5, verbose=1, n_jobs=-1)\n",
    "    rf_gs.fit(X_train,y_train) # training the random forest with all possible parameters\n",
    "    print('GridSearch results')\n",
    "    print('The best parameters on the training data are:\\n',rf_gs.best_params_) # printing the best parameters\n",
    "    max_depth_best = rf_gs.best_params_['max_depth']      # getting the best max_depth\n",
    "    n_estimators_best = rf_gs.best_params_['n_estimators']  # getting the best n_estimators\n",
    "    print(\"best max_depth:\",max_depth_best)\n",
    "    print(\"best n_estimators:\",n_estimators_best)\n",
    "    best_rf_gs = RandomForestClassifier(max_depth=max_depth_best,n_estimators=n_estimators_best) # instantiate the best model\n",
    "    \n",
    "    score(best_rf_gs, 'Random Forest', X_train, y_train)\n",
    "    \n",
    "    best_rf_gs.fit(X_train,y_train)  # fitting the best model\n",
    "\n",
    "    preds = best_rf_gs.predict(X_test)\n",
    "    print(\"\")\n",
    "    \n",
    "    print(\"Confusion Matrix:\\n\")\n",
    "    print(confusion_matrix(y_test,preds))\n",
    "    print(classification_report(y_test,preds))\n",
    "    print(accuracy_score(y_test, preds))\n",
    "\n",
    "    \n",
    "    print('Features and their importance:\\n')\n",
    "    feature_importances = pd.Series(best_rf_gs.feature_importances_, index=X.columns).sort_values().tail(10)\n",
    "    print(feature_importances.plot(kind=\"barh\", figsize=(6,6)))\n",
    "    return"
   ]
  },
  {
   "cell_type": "code",
   "execution_count": 11,
   "id": "6155b20b",
   "metadata": {
    "ExecuteTime": {
     "end_time": "2022-07-06T22:45:31.736251Z",
     "start_time": "2022-07-06T22:44:44.239197Z"
    }
   },
   "outputs": [
    {
     "name": "stdout",
     "output_type": "stream",
     "text": [
      "Fitting 5 folds for each of 110 candidates, totalling 550 fits\n",
      "GridSearch results\n",
      "The best parameters on the training data are:\n",
      " {'max_depth': 9, 'n_estimators': 25}\n",
      "best max_depth: 9\n",
      "best n_estimators: 25\n",
      "Random Forest Score: 0.65 +- 0.014\n",
      "\n",
      "Confusion Matrix:\n",
      "\n",
      "[[ 510    1  554  164    0]\n",
      " [  83   38   68  193    0]\n",
      " [ 280    1 2295  110    0]\n",
      " [ 200   17  657 1459    0]\n",
      " [   6    1    8   37    0]]\n",
      "              precision    recall  f1-score   support\n",
      "\n",
      "           0       0.47      0.41      0.44      1229\n",
      "           1       0.66      0.10      0.17       382\n",
      "           2       0.64      0.85      0.73      2686\n",
      "           3       0.74      0.63      0.68      2333\n",
      "           4       0.00      0.00      0.00        52\n",
      "\n",
      "    accuracy                           0.64      6682\n",
      "   macro avg       0.50      0.40      0.41      6682\n",
      "weighted avg       0.64      0.64      0.62      6682\n",
      "\n",
      "0.6438192158036516\n",
      "Features and their importance:\n",
      "\n",
      "AxesSubplot(0.125,0.125;0.775x0.755)\n"
     ]
    },
    {
     "name": "stderr",
     "output_type": "stream",
     "text": [
      "C:\\Users\\Larry\\anaconda3\\lib\\site-packages\\sklearn\\metrics\\_classification.py:1318: UndefinedMetricWarning: Precision and F-score are ill-defined and being set to 0.0 in labels with no predicted samples. Use `zero_division` parameter to control this behavior.\n",
      "  _warn_prf(average, modifier, msg_start, len(result))\n",
      "C:\\Users\\Larry\\anaconda3\\lib\\site-packages\\sklearn\\metrics\\_classification.py:1318: UndefinedMetricWarning: Precision and F-score are ill-defined and being set to 0.0 in labels with no predicted samples. Use `zero_division` parameter to control this behavior.\n",
      "  _warn_prf(average, modifier, msg_start, len(result))\n",
      "C:\\Users\\Larry\\anaconda3\\lib\\site-packages\\sklearn\\metrics\\_classification.py:1318: UndefinedMetricWarning: Precision and F-score are ill-defined and being set to 0.0 in labels with no predicted samples. Use `zero_division` parameter to control this behavior.\n",
      "  _warn_prf(average, modifier, msg_start, len(result))\n"
     ]
    },
    {
     "data": {
      "image/png": "[encoded data removed]",
      "text/plain": [
       "<Figure size 432x432 with 1 Axes>"
      ]
     },
     "metadata": {
      "needs_background": "light"
     },
     "output_type": "display_data"
    }
   ],
   "source": [
    "n_estimators = list(range(5,27,2))\n",
    "max_depth = list(range(1, 21, 2)) \n",
    "rfscore2(train.drop(columns= ['month']),'outcometype',0.25,n_estimators,max_depth)"
   ]
  },
  {
   "cell_type": "code",
   "execution_count": 12,
   "id": "31fea4b1",
   "metadata": {
    "ExecuteTime": {
     "end_time": "2022-07-06T22:45:32.063252Z",
     "start_time": "2022-07-06T22:45:31.741291Z"
    }
   },
   "outputs": [
    {
     "data": {
      "text/plain": [
       "<matplotlib.legend.Legend at 0x1fbd56794c0>"
      ]
     },
     "execution_count": 12,
     "metadata": {},
     "output_type": "execute_result"
    },
    {
     "data": {
      "image/png": "[encoded data removed]",
      "text/plain": [
       "<Figure size 432x288 with 1 Axes>"
      ]
     },
     "metadata": {
      "needs_background": "light"
     },
     "output_type": "display_data"
    }
   ],
   "source": [
    "train.groupby('is_fixed').outcometype.value_counts(normalize=True).unstack().plot(kind='barh', stacked=True)\n",
    "ax = plt.gca()\n",
    "ax.legend(loc=(1.05,0.88),labels=['Return_to_owner','Euthanasia','Adoption','Transfer','Died'])"
   ]
  },
  {
   "cell_type": "markdown",
   "id": "0a7ed64b",
   "metadata": {},
   "source": [
    "Animals that were not spayed or neutered were transferred at a much greater rate than their counterparts. Shelters that do not have the money or resources to perform these on site will transfer their animals to those that do."
   ]
  },
  {
   "cell_type": "code",
   "execution_count": 13,
   "id": "b465af20",
   "metadata": {
    "ExecuteTime": {
     "end_time": "2022-07-06T22:45:32.746251Z",
     "start_time": "2022-07-06T22:45:32.066253Z"
    }
   },
   "outputs": [
    {
     "data": {
      "image/png": "[encoded data removed]",
      "text/plain": [
       "<Figure size 1080x1080 with 2 Axes>"
      ]
     },
     "metadata": {
      "needs_background": "light"
     },
     "output_type": "display_data"
    }
   ],
   "source": [
    "fig, ax = plt.subplots(2,1,figsize=(15,15))\n",
    "train.groupby('has_name').outcometype.value_counts(normalize=True).unstack().plot(kind='barh', stacked=True, ax=ax[0])\n",
    "ax[0].legend(loc=(1.05,0.88),labels=['Return_to_owner','Euthanasia','Adoption','Transfer','Died'])\n",
    "\n",
    "train.groupby(['has_name','is_fixed']).outcometype.value_counts(normalize=True).unstack().plot(kind='barh', stacked=True, ax=ax[1])\n",
    "ax[1].legend(loc=(1.05,0.88),labels=['Return_to_owner','Euthanasia','Adoption','Transfer','Died'])\n",
    "\n",
    "\n",
    "plt.tight_layout()"
   ]
  },
  {
   "cell_type": "markdown",
   "id": "5efed38f",
   "metadata": {},
   "source": [
    "It would seem that Adoption is much higher for animals that have a name, but it doesn't matter as much as it looks when taken into account with is_fixed"
   ]
  },
  {
   "cell_type": "code",
   "execution_count": null,
   "id": "f03319cc",
   "metadata": {},
   "outputs": [],
   "source": []
  },
  {
   "cell_type": "code",
   "execution_count": 14,
   "id": "9b27fc76",
   "metadata": {
    "ExecuteTime": {
     "end_time": "2022-07-06T22:45:32.762271Z",
     "start_time": "2022-07-06T22:45:32.753253Z"
    }
   },
   "outputs": [],
   "source": [
    "from sklearn.neighbors import KNeighborsClassifier\n",
    "from sklearn.preprocessing import StandardScaler\n",
    "import matplotlib.pyplot as plt"
   ]
  },
  {
   "cell_type": "code",
   "execution_count": 15,
   "id": "f5b3985e",
   "metadata": {
    "ExecuteTime": {
     "end_time": "2022-07-06T22:45:32.793251Z",
     "start_time": "2022-07-06T22:45:32.765251Z"
    }
   },
   "outputs": [],
   "source": [
    "def knnscore_gridsearch(df, target_col, test_size):\n",
    "    '''Gridsearching for KNeighbors Classifier'''\n",
    "    X = df.drop(target_col, axis=1)\n",
    "    y = df[target_col]\n",
    "    ss= StandardScaler()\n",
    "    X_train, X_test, y_train, y_test = train_test_split(X, \n",
    "                                                        y, test_size = test_size, random_state=42) # train/test split\n",
    "    knn_params= {'n_neighbors': list(range(1, 30, 2)), 'p':[1,2]}\n",
    "    X_train_sc=ss.fit_transform(X_train)\n",
    "    X_test_sc= ss.transform(X_test)\n",
    "    knn_gs = GridSearchCV(KNeighborsClassifier(),knn_params, cv=5, verbose=1,n_jobs=-1)\n",
    "    knn_gs.fit(X_train_sc, y_train)\n",
    "    print('GridSearch results')\n",
    "    print('The best parameters on the training data are:\\n') # printing the best parameters\n",
    "    n_neighbors_best = knn_gs.best_params_['n_neighbors']      # getting the best n_neighbors\n",
    "    p_best = knn_gs.best_params_['p'] # printing best p\n",
    "    print(\"best n_neighbors:\",n_neighbors_best)\n",
    "    print(\"best p:\", p_best)\n",
    "    \n",
    "    best_knn_gs = KNeighborsClassifier(n_neighbors=n_neighbors_best,p=p_best) # instantiate the best model\n",
    "    best_knn_gs.fit(X_train_sc,y_train)  # fitting the best model\n",
    "    best_knn_score = best_knn_gs.score(X_test_sc,y_test) \n",
    "    print (\"best score is:\",round(best_knn_score,2))\n",
    "    \n",
    "    preds = best_knn_gs.predict(X_test_sc)\n",
    "    print(\"\")\n",
    "\n",
    "\n",
    "    disp = plot_confusion_matrix(best_knn_gs, X_test_sc, y_test)\n",
    "    disp.figure_.suptitle(\"Confusion Matrix\")\n",
    "    print(\"Confusion matrix:\\n%s\" % disp.confusion_matrix)\n",
    "    plt.show();\n"
   ]
  },
  {
   "cell_type": "code",
   "execution_count": 16,
   "id": "f159381d",
   "metadata": {
    "ExecuteTime": {
     "end_time": "2022-07-06T22:50:25.761178Z",
     "start_time": "2022-07-06T22:45:32.799252Z"
    }
   },
   "outputs": [
    {
     "name": "stdout",
     "output_type": "stream",
     "text": [
      "Fitting 5 folds for each of 30 candidates, totalling 150 fits\n",
      "GridSearch results\n",
      "The best parameters on the training data are:\n",
      "\n",
      "best n_neighbors: 19\n",
      "best p: 1\n",
      "best score is: 0.61\n",
      "\n"
     ]
    },
    {
     "name": "stderr",
     "output_type": "stream",
     "text": [
      "C:\\Users\\Larry\\anaconda3\\lib\\site-packages\\sklearn\\utils\\deprecation.py:87: FutureWarning: Function plot_confusion_matrix is deprecated; Function `plot_confusion_matrix` is deprecated in 1.0 and will be removed in 1.2. Use one of the class methods: ConfusionMatrixDisplay.from_predictions or ConfusionMatrixDisplay.from_estimator.\n",
      "  warnings.warn(msg, category=FutureWarning)\n"
     ]
    },
    {
     "name": "stdout",
     "output_type": "stream",
     "text": [
      "Confusion matrix:\n",
      "[[ 532    7  574  116    0]\n",
      " [ 117    8   80  177    0]\n",
      " [ 344    4 2180  158    0]\n",
      " [ 265   14  691 1363    0]\n",
      " [   5    0    9   38    0]]\n"
     ]
    },
    {
     "data": {
      "image/png": "[encoded data removed]",
      "text/plain": [
       "<Figure size 432x288 with 2 Axes>"
      ]
     },
     "metadata": {
      "needs_background": "light"
     },
     "output_type": "display_data"
    }
   ],
   "source": [
    "knnscore_gridsearch(train.drop(columns= ['month']),'outcometype',0.25)\n"
   ]
  },
  {
   "cell_type": "code",
   "execution_count": null,
   "id": "ccd2418a",
   "metadata": {},
   "outputs": [],
   "source": []
  }
 ],
 "metadata": {
  "kernelspec": {
   "display_name": "Python 3 (ipykernel)",
   "language": "python",
   "name": "python3"
  },
  "language_info": {
   "codemirror_mode": {
    "name": "ipython",
    "version": 3
   },
   "file_extension": ".py",
   "mimetype": "text/x-python",
   "name": "python",
   "nbconvert_exporter": "python",
   "pygments_lexer": "ipython3",
   "version": "3.9.12"
  },
  "toc": {
   "base_numbering": 1,
   "nav_menu": {},
   "number_sections": true,
   "sideBar": true,
   "skip_h1_title": false,
   "title_cell": "Table of Contents",
   "title_sidebar": "Contents",
   "toc_cell": false,
   "toc_position": {},
   "toc_section_display": true,
   "toc_window_display": false
  }
 },
 "nbformat": 4,
 "nbformat_minor": 5
}
